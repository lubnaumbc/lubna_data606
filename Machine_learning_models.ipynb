{
 "cells": [
  {
   "cell_type": "code",
   "execution_count": 1,
   "id": "1c109f13",
   "metadata": {
    "id": "1c109f13"
   },
   "outputs": [],
   "source": [
    "import numpy as np\n",
    "import pandas as pd \n",
    "import matplotlib.pyplot as plt\n",
    "import seaborn as sns\n",
    "from sklearn import preprocessing\n",
    "import warnings\n",
    "warnings.simplefilter(\"ignore\")"
   ]
  },
  {
   "cell_type": "code",
   "execution_count": 2,
   "id": "-l2tPmSl9uZy",
   "metadata": {
    "id": "-l2tPmSl9uZy"
   },
   "outputs": [],
   "source": [
    "final_merged_data=pd.read_csv('final_merged_data.csv')"
   ]
  },
  {
   "cell_type": "code",
   "execution_count": 3,
   "id": "bXPiw0hC9wC6",
   "metadata": {
    "id": "bXPiw0hC9wC6"
   },
   "outputs": [
    {
     "name": "stdout",
     "output_type": "stream",
     "text": [
      "<class 'pandas.core.frame.DataFrame'>\n",
      "RangeIndex: 558211 entries, 0 to 558210\n",
      "Data columns (total 42 columns):\n",
      " #   Column                              Non-Null Count   Dtype  \n",
      "---  ------                              --------------   -----  \n",
      " 0   Provider                            558211 non-null  object \n",
      " 1   InscClaimAmtReimbursed              558211 non-null  int64  \n",
      " 2   AttendingPhysician                  558211 non-null  object \n",
      " 3   OperatingPhysician                  558211 non-null  object \n",
      " 4   OtherPhysician                      558211 non-null  object \n",
      " 5   ClmAdmitDiagnosisCode               558211 non-null  object \n",
      " 6   DeductibleAmtPaid                   558211 non-null  float64\n",
      " 7   DiagnosisGroupCode                  558211 non-null  int64  \n",
      " 8   days_admitted                       558211 non-null  float64\n",
      " 9   Claim_duration                      558211 non-null  float64\n",
      " 10  Extra_days_claimed                  558211 non-null  float64\n",
      " 11  was_admitted                        558211 non-null  int64  \n",
      " 12  Gender                              558211 non-null  int64  \n",
      " 13  Race                                558211 non-null  int64  \n",
      " 14  RenalDiseaseIndicator               558211 non-null  int64  \n",
      " 15  State                               558211 non-null  int64  \n",
      " 16  County                              558211 non-null  int64  \n",
      " 17  NoOfMonths_PartACov                 558211 non-null  int64  \n",
      " 18  NoOfMonths_PartBCov                 558211 non-null  int64  \n",
      " 19  ChronicCond_Alzheimer               558211 non-null  int64  \n",
      " 20  ChronicCond_Heartfailure            558211 non-null  int64  \n",
      " 21  ChronicCond_KidneyDisease           558211 non-null  int64  \n",
      " 22  ChronicCond_Cancer                  558211 non-null  int64  \n",
      " 23  ChronicCond_ObstrPulmonary          558211 non-null  int64  \n",
      " 24  ChronicCond_Depression              558211 non-null  int64  \n",
      " 25  ChronicCond_Diabetes                558211 non-null  int64  \n",
      " 26  ChronicCond_IschemicHeart           558211 non-null  int64  \n",
      " 27  ChronicCond_Osteoporasis            558211 non-null  int64  \n",
      " 28  ChronicCond_rheumatoidarthritis     558211 non-null  int64  \n",
      " 29  ChronicCond_stroke                  558211 non-null  int64  \n",
      " 30  IPAnnualReimbursementAmt            558211 non-null  int64  \n",
      " 31  IPAnnualDeductibleAmt               558211 non-null  int64  \n",
      " 32  OPAnnualReimbursementAmt            558211 non-null  int64  \n",
      " 33  OPAnnualDeductibleAmt               558211 non-null  int64  \n",
      " 34  Patient_Age                         558211 non-null  float64\n",
      " 35  is_dead                             558211 non-null  int64  \n",
      " 36  Patient_Risk_Score                  558211 non-null  int64  \n",
      " 37  Total_ip_op_AnnualReimbursementAmt  558211 non-null  int64  \n",
      " 38  Total_ip_op_AnnualDeductibleAmt     558211 non-null  int64  \n",
      " 39  Total_physicans_attended            558211 non-null  int64  \n",
      " 40  Total_ClmDiagnosisCode              558211 non-null  int64  \n",
      " 41  Total_ClmProcedureCode              558211 non-null  int64  \n",
      "dtypes: float64(5), int64(32), object(5)\n",
      "memory usage: 178.9+ MB\n"
     ]
    }
   ],
   "source": [
    "y = final_merged_data.PotentialFraud\n",
    "X = final_merged_data.drop('PotentialFraud',axis=1)\n",
    "X.info()"
   ]
  },
  {
   "cell_type": "code",
   "execution_count": 4,
   "id": "ss8F-tBn9y5h",
   "metadata": {
    "id": "ss8F-tBn9y5h"
   },
   "outputs": [
    {
     "name": "stdout",
     "output_type": "stream",
     "text": [
      "Training samples: 374,001\n",
      "Test samples: 184,210\n"
     ]
    }
   ],
   "source": [
    "from sklearn.model_selection import train_test_split\n",
    "X_train, X_test, y_train, y_test = train_test_split(X, y, test_size=0.33)\n",
    "print(f'Training samples: {X_train.shape[0]:,}')\n",
    "print(f'Test samples: {X_test.shape[0]:,}')"
   ]
  },
  {
   "cell_type": "code",
   "execution_count": 5,
   "id": "Auja5oQX9zhJ",
   "metadata": {
    "id": "Auja5oQX9zhJ"
   },
   "outputs": [],
   "source": [
    "all_toshow_df = {\"Select Algorithm\":\" \"}"
   ]
  },
  {
   "cell_type": "code",
   "execution_count": 6,
   "id": "zZ9yFTT-92Cp",
   "metadata": {
    "id": "zZ9yFTT-92Cp"
   },
   "outputs": [
    {
     "name": "stdout",
     "output_type": "stream",
     "text": [
      "Pipeline Created\n"
     ]
    }
   ],
   "source": [
    "from sklearn.pipeline import Pipeline\n",
    "from sklearn.compose import ColumnTransformer\n",
    "from sklearn.impute import SimpleImputer\n",
    "from sklearn.preprocessing import OneHotEncoder\n",
    "from sklearn.preprocessing import StandardScaler\n",
    "from sklearn.model_selection import train_test_split\n",
    "from sklearn.preprocessing import StandardScaler\n",
    "from sklearn.compose import ColumnTransformer\n",
    "from sklearn.pipeline import Pipeline\n",
    "from sklearn.impute import SimpleImputer\n",
    "from sklearn.impute import MissingIndicator\n",
    "from sklearn.preprocessing import OneHotEncoder,LabelEncoder\n",
    "from sklearn.tree import DecisionTreeClassifier\n",
    "from sklearn.linear_model import LogisticRegression\n",
    "from xgboost import XGBClassifier\n",
    "from sklearn.ensemble import RandomForestClassifier\n",
    "from sklearn.ensemble import AdaBoostClassifier\n",
    "from sklearn.ensemble import ExtraTreesClassifier\n",
    "from sklearn.metrics import confusion_matrix, classification_report\n",
    "from sklearn.model_selection import GridSearchCV\n",
    "from sklearn.metrics import recall_score, precision_score, f1_score, accuracy_score, classification_report\n",
    "import warnings\n",
    "\n",
    "cats  = ['Gender', 'Race', 'State', 'County', 'NoOfMonths_PartACov', 'NoOfMonths_PartBCov', 'Provider',' AttendingPhysician', 'OperatingPhysician','OtherPhysician', 'ClmAdmitDiagnosisCode','DiagnosisGroupCode',\n",
    "         ]\n",
    "nums =['InscClaimAmtReimbursed', 'DeductibleAmtPaid', 'days_admitted', 'Claim_duration', 'Extra_days_claimed', 'was_admitted', 'RenalDiseaseIndicator',   'ChronicCond_Alzheimer', 'ChronicCond_Heartfailure', 'ChronicCond_KidneyDisease', 'ChronicCond_Cancer', 'ChronicCond_ObstrPulmonary', 'ChronicCond_Depression', 'ChronicCond_Diabetes', 'ChronicCond_IschemicHeart', 'ChronicCond_Osteoporasis', 'ChronicCond_rheumatoidarthritis', 'ChronicCond_stroke', 'IPAnnualReimbursementAmt', 'IPAnnualDeductibleAmt', 'OPAnnualReimbursementAmt', 'OPAnnualDeductibleAmt', 'Patient_Age', 'is_dead', 'Patient_Risk_Score', 'Total_ip_op_AnnualReimbursementAmt', 'Total_ip_op_AnnualDeductibleAmt', 'Total_physicans_attended', 'Total_ClmDiagnosisCode', 'Total_ClmProcedureCode'\n",
    "       ]\n",
    "num_pipeline = Pipeline([('standardize_num', StandardScaler())])\n",
    "\n",
    "cat_pipeline = Pipeline([('create_dummies_cats', OneHotEncoder(handle_unknown='ignore',  sparse=False))])\n",
    "\n",
    "processing_pipeline = ColumnTransformer(transformers=[('proc_numeric', num_pipeline, nums),\n",
    "                                                      ('create_dummies', cat_pipeline, cats)])\n",
    "\n",
    "print('Pipeline Created')"
   ]
  },
  {
   "cell_type": "markdown",
   "id": "ecb658c2",
   "metadata": {
    "id": "ecb658c2"
   },
   "source": [
    "## Logistic Regression"
   ]
  },
  {
   "cell_type": "code",
   "execution_count": 7,
   "id": "5961a101",
   "metadata": {
    "id": "5961a101"
   },
   "outputs": [],
   "source": [
    "pipe1 = Pipeline([('processing', processing_pipeline),\n",
    "    ('mnl', LogisticRegression(fit_intercept=True,max_iter=1000))])\n",
    "\n",
    "ml= pipe1.fit(X_train, y_train)"
   ]
  },
  {
   "cell_type": "code",
   "execution_count": 8,
   "id": "48642f12",
   "metadata": {
    "id": "48642f12",
    "outputId": "0201cb74-e8e9-4a75-b958-ad585adab399"
   },
   "outputs": [
    {
     "name": "stdout",
     "output_type": "stream",
     "text": [
      "[[111261   3106]\n",
      " [ 21576  48267]]\n"
     ]
    }
   ],
   "source": [
    "from sklearn.metrics import confusion_matrix\n",
    "\n",
    "y_testlr = ml.predict(X_test)\n",
    "\n",
    "print(confusion_matrix(y_test, y_testlr))"
   ]
  },
  {
   "cell_type": "code",
   "execution_count": 9,
   "id": "3927bb70",
   "metadata": {
    "id": "3927bb70",
    "outputId": "4106c04b-7c74-4e34-d3fb-00c422d0b760"
   },
   "outputs": [
    {
     "name": "stdout",
     "output_type": "stream",
     "text": [
      "              precision    recall  f1-score   support\n",
      "\n",
      "           0       0.84      0.97      0.90    114367\n",
      "           1       0.94      0.69      0.80     69843\n",
      "\n",
      "    accuracy                           0.87    184210\n",
      "   macro avg       0.89      0.83      0.85    184210\n",
      "weighted avg       0.88      0.87      0.86    184210\n",
      "\n"
     ]
    }
   ],
   "source": [
    "y_testlr = ml.predict(X_test)\n",
    "\n",
    "from sklearn.metrics import classification_report\n",
    "print(classification_report(y_test, y_testlr))"
   ]
  },
  {
   "cell_type": "code",
   "execution_count": 10,
   "id": "027013e6",
   "metadata": {
    "id": "027013e6",
    "outputId": "f6aa4395-6793-4c6e-f2f5-d1fc771ce4ae"
   },
   "outputs": [
    {
     "name": "stdout",
     "output_type": "stream",
     "text": [
      "0.7963800158394932\n"
     ]
    }
   ],
   "source": [
    "y_testlr= ml.predict(X_test)\n",
    "print(f1_score(y_test, y_testlr))"
   ]
  },
  {
   "cell_type": "code",
   "execution_count": 11,
   "id": "fa9328a9",
   "metadata": {
    "id": "fa9328a9",
    "outputId": "4b5376bc-5ab5-4988-926e-1abd020f2a8c"
   },
   "outputs": [],
   "source": [
    "lr_toshow_df = X_test.copy()\n",
    "lr_toshow_df['Real'] = y_test\n",
    "lr_toshow_df['Pred'] = y_testlr\n",
    "lr_toshow_df=lr_toshow_df.reset_index(drop=True)"
   ]
  },
  {
   "cell_type": "code",
   "execution_count": 12,
   "id": "e3b173fd",
   "metadata": {
    "id": "e3b173fd"
   },
   "outputs": [],
   "source": [
    "all_toshow_df[\"Logistic Regression\"] = lr_toshow_df"
   ]
  },
  {
   "cell_type": "code",
   "execution_count": 13,
   "id": "7b1d74eb",
   "metadata": {
    "id": "7b1d74eb",
    "outputId": "dea7e3ac-271c-4e2e-a36a-1c7e6e564ccf"
   },
   "outputs": [
    {
     "data": {
      "image/png": "[encoded data removed]",
      "text/plain": [
       "<Figure size 432x288 with 1 Axes>"
      ]
     },
     "metadata": {
      "needs_background": "light"
     },
     "output_type": "display_data"
    }
   ],
   "source": [
    "from sklearn.metrics import roc_curve\n",
    "\n",
    "def generate_probs(X, model=ml):\n",
    "    return model.predict_proba(X)[:, 1]\n",
    "\n",
    "def generate_roc(y, probs):\n",
    "    fpr, tpr, _ = roc_curve(y, probs)\n",
    "    return fpr, tpr\n",
    "    \n",
    "fpr_test, tpr_test = generate_roc(y_test, generate_probs(X_test))\n",
    "fpr_train, tpr_train = generate_roc(y_train, generate_probs(X_train))\n",
    "\n",
    "plt.plot(fpr_test, tpr_test,'-r')\n",
    "plt.plot(fpr_train, tpr_train,'-b')\n",
    "plt.xlabel('False Positive Rate')\n",
    "plt.ylabel('True Positive Rate')\n",
    "plt.legend(['Test','Training'])\n",
    "plt.plot([0, 1], [0, 1], color='navy', linestyle='--')\n",
    "plt.show()"
   ]
  },
  {
   "cell_type": "code",
   "execution_count": 14,
   "id": "c6e49667",
   "metadata": {
    "id": "c6e49667",
    "outputId": "91442f31-92b6-47c0-bcc8-7d7e79cd3929"
   },
   "outputs": [
    {
     "data": {
      "text/plain": [
       "0.9097779903380089"
      ]
     },
     "execution_count": 14,
     "metadata": {},
     "output_type": "execute_result"
    }
   ],
   "source": [
    "from sklearn.metrics import roc_auc_score\n",
    "\n",
    "roc_auc_score(y_test, generate_probs(X_test))"
   ]
  },
  {
   "cell_type": "markdown",
   "id": "08bcf7d7",
   "metadata": {
    "id": "08bcf7d7"
   },
   "source": [
    "## Logistic Regression with hyperparameter tuning"
   ]
  },
  {
   "cell_type": "code",
   "execution_count": 15,
   "id": "353f59e7",
   "metadata": {
    "id": "353f59e7",
    "outputId": "6674b8e2-bb0d-4e0e-83db-a084ae496abf"
   },
   "outputs": [
    {
     "name": "stdout",
     "output_type": "stream",
     "text": [
      "Fitting 3 folds for each of 14 candidates, totalling 42 fits\n"
     ]
    }
   ],
   "source": [
    "from sklearn.metrics import f1_score\n",
    "from sklearn.metrics import make_scorer\n",
    "from sklearn.model_selection import GroupKFold\n",
    "#cv = GroupKFold(n_splits=10)\n",
    "\n",
    "                            \n",
    "\n",
    "param_grid = [{'mnl__penalty': ['l1', 'l2'],\n",
    "               'mnl__C':np.logspace(-3,3,7)\n",
    "            }]\n",
    "\n",
    "f1_scorer = make_scorer(f1_score)\n",
    "gridlr = GridSearchCV(estimator = pipe1, param_grid=param_grid, n_jobs=2,refit='neg_log_loss', cv=3, verbose=2, scoring = f1_scorer, return_train_score=True)\n",
    "\n",
    "gridlr = gridlr.fit(X_train, y_train)"
   ]
  },
  {
   "cell_type": "code",
   "execution_count": 16,
   "id": "7803bedd",
   "metadata": {
    "id": "7803bedd",
    "outputId": "f123ff4e-dcf8-4cf4-b436-55c4ba1a9fbb"
   },
   "outputs": [
    {
     "data": {
      "text/plain": [
       "Pipeline(steps=[('processing',\n",
       "                 ColumnTransformer(transformers=[('proc_numeric',\n",
       "                                                  Pipeline(steps=[('standardize_num',\n",
       "                                                                   StandardScaler())]),\n",
       "                                                  ['InscClaimAmtReimbursed',\n",
       "                                                   'DeductibleAmtPaid',\n",
       "                                                   'days_admitted',\n",
       "                                                   'Claim_duration',\n",
       "                                                   'Extra_days_claimed',\n",
       "                                                   'was_admitted',\n",
       "                                                   'RenalDiseaseIndicator',\n",
       "                                                   'ChronicCond_Alzheimer',\n",
       "                                                   'ChronicCond_Heartfailure',\n",
       "                                                   'ChronicCond_KidneyDisease'...\n",
       "                                                  Pipeline(steps=[('create_dummies_cats',\n",
       "                                                                   OneHotEncoder(handle_unknown='ignore',\n",
       "                                                                                 sparse=False))]),\n",
       "                                                  ['Provider',\n",
       "                                                   'AttendingPhysician',\n",
       "                                                   'OperatingPhysician',\n",
       "                                                   'OtherPhysician',\n",
       "                                                   'ClmAdmitDiagnosisCode',\n",
       "                                                   'DiagnosisGroupCode',\n",
       "                                                   'Gender', 'Race', 'State',\n",
       "                                                   'County',\n",
       "                                                   'NoOfMonths_PartACov',\n",
       "                                                   'NoOfMonths_PartBCov'])])),\n",
       "                ('scale', StandardScaler()),\n",
       "                ('mnl', LogisticRegression(C=0.001, max_iter=1000))])"
      ]
     },
     "execution_count": 16,
     "metadata": {},
     "output_type": "execute_result"
    }
   ],
   "source": [
    "gridlr.best_estimator_"
   ]
  },
  {
   "cell_type": "code",
   "execution_count": 17,
   "id": "4a63b6ed",
   "metadata": {
    "id": "4a63b6ed",
    "outputId": "0e81d955-6655-4f1e-929d-fa3e1d7b56df"
   },
   "outputs": [
    {
     "data": {
      "text/plain": [
       "{'mnl__C': 0.001, 'mnl__penalty': 'l2'}"
      ]
     },
     "execution_count": 17,
     "metadata": {},
     "output_type": "execute_result"
    }
   ],
   "source": [
    "gridlr.best_params_"
   ]
  },
  {
   "cell_type": "code",
   "execution_count": 18,
   "id": "05aefcb9",
   "metadata": {
    "id": "05aefcb9",
    "outputId": "f9c627d9-6d28-4050-d494-032fe922bf5b"
   },
   "outputs": [
    {
     "name": "stdout",
     "output_type": "stream",
     "text": [
      "[[111324   3043]\n",
      " [ 21613  48230]]\n"
     ]
    }
   ],
   "source": [
    "from sklearn.metrics import confusion_matrix\n",
    "\n",
    "y_testlr = gridlr.predict(X_test)\n",
    "\n",
    "print(confusion_matrix(y_test, y_testlr))"
   ]
  },
  {
   "cell_type": "code",
   "execution_count": 19,
   "id": "5a887c1f",
   "metadata": {
    "id": "5a887c1f",
    "outputId": "18cb1b44-3557-4046-c66a-32442a617863"
   },
   "outputs": [
    {
     "name": "stdout",
     "output_type": "stream",
     "text": [
      "              precision    recall  f1-score   support\n",
      "\n",
      "           0       0.84      0.97      0.90    114367\n",
      "           1       0.94      0.69      0.80     69843\n",
      "\n",
      "    accuracy                           0.87    184210\n",
      "   macro avg       0.89      0.83      0.85    184210\n",
      "weighted avg       0.88      0.87      0.86    184210\n",
      "\n"
     ]
    }
   ],
   "source": [
    "y_testlr = gridlr.predict(X_test)\n",
    "\n",
    "from sklearn.metrics import classification_report\n",
    "print(classification_report(y_test, y_testlr))"
   ]
  },
  {
   "cell_type": "code",
   "execution_count": 20,
   "id": "0e79abdf",
   "metadata": {
    "id": "0e79abdf",
    "outputId": "901831ab-d7df-485e-daae-384870010813"
   },
   "outputs": [
    {
     "name": "stdout",
     "output_type": "stream",
     "text": [
      "0.7964265662670497\n"
     ]
    }
   ],
   "source": [
    "from sklearn.metrics import f1_score\n",
    "y_testlr = gridlr.predict(X_test)\n",
    "print(f1_score(y_test, y_testlr))"
   ]
  },
  {
   "cell_type": "markdown",
   "id": "5c47da2b",
   "metadata": {
    "id": "5c47da2b"
   },
   "source": [
    "## Decision Tree"
   ]
  },
  {
   "cell_type": "code",
   "execution_count": 21,
   "id": "27b56fa8",
   "metadata": {
    "id": "27b56fa8"
   },
   "outputs": [],
   "source": [
    "pipe2 = Pipeline([('processing', processing_pipeline),\n",
    "    ('dt_classifier', DecisionTreeClassifier(random_state=0))])\n",
    "mdt= pipe2.fit(X_train, y_train)"
   ]
  },
  {
   "cell_type": "code",
   "execution_count": 22,
   "id": "510365a5",
   "metadata": {
    "id": "510365a5",
    "outputId": "679434a0-1aa0-4f0d-b2e2-5c85d4fc5c2e"
   },
   "outputs": [
    {
     "name": "stdout",
     "output_type": "stream",
     "text": [
      "[[100148  14219]\n",
      " [ 13048  56795]]\n"
     ]
    }
   ],
   "source": [
    "from sklearn.metrics import confusion_matrix\n",
    "\n",
    "y_testp_dt = mdt.predict(X_test)\n",
    "\n",
    "print(confusion_matrix(y_test, y_testp_dt))"
   ]
  },
  {
   "cell_type": "code",
   "execution_count": 23,
   "id": "b68a6757",
   "metadata": {
    "id": "b68a6757",
    "outputId": "7117a58b-76e9-4532-9191-46e07c331df6"
   },
   "outputs": [
    {
     "name": "stdout",
     "output_type": "stream",
     "text": [
      "              precision    recall  f1-score   support\n",
      "\n",
      "           0       0.88      0.88      0.88    114367\n",
      "           1       0.80      0.81      0.81     69843\n",
      "\n",
      "    accuracy                           0.85    184210\n",
      "   macro avg       0.84      0.84      0.84    184210\n",
      "weighted avg       0.85      0.85      0.85    184210\n",
      "\n"
     ]
    }
   ],
   "source": [
    "y_testp_dt = mdt.predict(X_test)\n",
    "\n",
    "from sklearn.metrics import classification_report\n",
    "print(classification_report(y_test, y_testp_dt))"
   ]
  },
  {
   "cell_type": "code",
   "execution_count": 24,
   "id": "70d51784",
   "metadata": {
    "id": "70d51784",
    "outputId": "806ed1be-5ca2-4533-eb90-c09b822ea3ec"
   },
   "outputs": [
    {
     "name": "stdout",
     "output_type": "stream",
     "text": [
      "0.8064206961670346\n"
     ]
    }
   ],
   "source": [
    "from sklearn.metrics import f1_score\n",
    "y_testp_dt = mdt.predict(X_test)\n",
    "print(f1_score(y_test, y_testp_dt))"
   ]
  },
  {
   "cell_type": "code",
   "execution_count": 25,
   "id": "0f768ceb",
   "metadata": {
    "id": "0f768ceb",
    "outputId": "b3fbb985-aa7a-43f9-81d0-4f6d0df2f0ff"
   },
   "outputs": [],
   "source": [
    "dt_toshow_df = X_test.copy()\n",
    "dt_toshow_df['Real'] = y_test\n",
    "dt_toshow_df['Pred'] = y_testp_dt\n",
    "dt_toshow_df=dt_toshow_df.reset_index(drop=True)"
   ]
  },
  {
   "cell_type": "code",
   "execution_count": 26,
   "id": "c1b0876e",
   "metadata": {
    "id": "c1b0876e"
   },
   "outputs": [],
   "source": [
    "all_toshow_df[\"Decision Tree\"] = dt_toshow_df"
   ]
  },
  {
   "cell_type": "code",
   "execution_count": 27,
   "id": "47df1053",
   "metadata": {
    "id": "47df1053",
    "outputId": "591c7e06-1fea-4b39-fdee-da63e34c2a21"
   },
   "outputs": [
    {
     "data": {
      "image/png": "[encoded data removed]",
      "text/plain": [
       "<Figure size 432x288 with 1 Axes>"
      ]
     },
     "metadata": {
      "needs_background": "light"
     },
     "output_type": "display_data"
    }
   ],
   "source": [
    "from sklearn.metrics import roc_curve\n",
    "\n",
    "def generate_probs(X, model=mdt):\n",
    "    return model.predict_proba(X)[:, 1]\n",
    "\n",
    "def generate_roc(y, probs):\n",
    "    fpr, tpr, _ = roc_curve(y, probs)\n",
    "    return fpr, tpr\n",
    "    \n",
    "fpr_test, tpr_test = generate_roc(y_test, generate_probs(X_test))\n",
    "fpr_train, tpr_train = generate_roc(y_train, generate_probs(X_train))\n",
    "\n",
    "plt.plot(fpr_test, tpr_test,'-r')\n",
    "plt.plot(fpr_train, tpr_train,'-b')\n",
    "plt.xlabel('False Positive Rate')\n",
    "plt.ylabel('True Positive Rate')\n",
    "plt.legend(['Test','Training'])\n",
    "plt.plot([0, 1], [0, 1], color='navy', linestyle='--')\n",
    "plt.show()"
   ]
  },
  {
   "cell_type": "code",
   "execution_count": 28,
   "id": "170a0bfb",
   "metadata": {
    "id": "170a0bfb",
    "outputId": "3dbfa67c-49c6-4c81-813f-de6020058afc"
   },
   "outputs": [
    {
     "data": {
      "text/plain": [
       "0.8450712575090571"
      ]
     },
     "execution_count": 28,
     "metadata": {},
     "output_type": "execute_result"
    }
   ],
   "source": [
    "from sklearn.metrics import roc_auc_score\n",
    "\n",
    "roc_auc_score(y_test, generate_probs(X_test))"
   ]
  },
  {
   "cell_type": "markdown",
   "id": "d5e025d3",
   "metadata": {
    "id": "d5e025d3"
   },
   "source": [
    "## Hyperparameter tuning of decision Tree"
   ]
  },
  {
   "cell_type": "code",
   "execution_count": 29,
   "id": "69e51bde",
   "metadata": {
    "id": "69e51bde",
    "outputId": "006f26d2-ac8d-42f3-de81-dd8da213c5de"
   },
   "outputs": [
    {
     "name": "stdout",
     "output_type": "stream",
     "text": [
      "Fitting 4 folds for each of 2 candidates, totalling 8 fits\n"
     ]
    },
    {
     "data": {
      "text/plain": [
       "0.8381747089931236"
      ]
     },
     "execution_count": 29,
     "metadata": {},
     "output_type": "execute_result"
    }
   ],
   "source": [
    "from sklearn.model_selection import GridSearchCV\n",
    "params = {\n",
    "    'dt_classifier__max_depth': [10,50]\n",
    "}\n",
    "f1_scorer = make_scorer(f1_score)\n",
    "grid_dt= GridSearchCV(estimator=pipe2, \n",
    "                           param_grid=params, \n",
    "                           cv=4, n_jobs=-1, verbose=1, scoring = f1_scorer)\n",
    "griddt=grid_dt.fit(X_train, y_train)\n",
    "griddt.score(X_test, y_test)"
   ]
  },
  {
   "cell_type": "code",
   "execution_count": 30,
   "id": "dd485001",
   "metadata": {
    "id": "dd485001",
    "outputId": "c528763e-0ff5-419e-f85a-8931569fb1cc"
   },
   "outputs": [
    {
     "data": {
      "text/plain": [
       "{'dt_classifier__max_depth': 50}"
      ]
     },
     "execution_count": 30,
     "metadata": {},
     "output_type": "execute_result"
    }
   ],
   "source": [
    "griddt.best_params_"
   ]
  },
  {
   "cell_type": "code",
   "execution_count": 31,
   "id": "edead6a7",
   "metadata": {
    "id": "edead6a7",
    "outputId": "62179c36-dea4-426c-b720-0edfd8f1b04c"
   },
   "outputs": [
    {
     "name": "stdout",
     "output_type": "stream",
     "text": [
      "[[106657   7710]\n",
      " [ 13894  55949]]\n"
     ]
    }
   ],
   "source": [
    "from sklearn.metrics import confusion_matrix\n",
    "\n",
    "y_testp_dt = griddt.predict(X_test)\n",
    "\n",
    "print(confusion_matrix(y_test, y_testp_dt))"
   ]
  },
  {
   "cell_type": "code",
   "execution_count": 32,
   "id": "6921f694",
   "metadata": {
    "id": "6921f694",
    "outputId": "d1e76db1-a309-44d8-e7f0-aadf93ebfe4a"
   },
   "outputs": [
    {
     "name": "stdout",
     "output_type": "stream",
     "text": [
      "              precision    recall  f1-score   support\n",
      "\n",
      "           0       0.88      0.93      0.91    114367\n",
      "           1       0.88      0.80      0.84     69843\n",
      "\n",
      "    accuracy                           0.88    184210\n",
      "   macro avg       0.88      0.87      0.87    184210\n",
      "weighted avg       0.88      0.88      0.88    184210\n",
      "\n"
     ]
    }
   ],
   "source": [
    "y_testp_dt= griddt.predict(X_test)\n",
    "from sklearn.metrics import classification_report\n",
    "print(classification_report(y_test, y_testp_dt))"
   ]
  },
  {
   "cell_type": "code",
   "execution_count": 33,
   "id": "3021ecf5",
   "metadata": {
    "id": "3021ecf5",
    "outputId": "7f6cce78-98d8-4fe4-82ce-1d8bfaa39fa2"
   },
   "outputs": [
    {
     "name": "stdout",
     "output_type": "stream",
     "text": [
      "0.8381747089931236\n"
     ]
    }
   ],
   "source": [
    "from sklearn.metrics import f1_score\n",
    "y_testp_dt= griddt.predict(X_test)\n",
    "print(f1_score(y_test,y_testp_dt))"
   ]
  },
  {
   "cell_type": "code",
   "execution_count": 34,
   "id": "77f733d8",
   "metadata": {
    "id": "77f733d8",
    "outputId": "a4b7645b-beee-4b02-cd5b-a74aa5f78291"
   },
   "outputs": [
    {
     "name": "stdout",
     "output_type": "stream",
     "text": [
      "Current Time = 04:13:00\n"
     ]
    }
   ],
   "source": [
    "from datetime import datetime\n",
    "\n",
    "now = datetime.now()\n",
    "\n",
    "current_time = now.strftime(\"%H:%M:%S\")\n",
    "print(\"Current Time =\", current_time)"
   ]
  },
  {
   "cell_type": "markdown",
   "id": "ca615e01",
   "metadata": {
    "id": "ca615e01"
   },
   "source": [
    "## Random Forest"
   ]
  },
  {
   "cell_type": "code",
   "execution_count": 35,
   "id": "f84d2c48",
   "metadata": {
    "id": "f84d2c48"
   },
   "outputs": [],
   "source": [
    "pipe3 = Pipeline([('processing', processing_pipeline),\n",
    "    ('rf_classifier', RandomForestClassifier(random_state=0,max_samples=4000))])\n",
    "mrf= pipe3.fit(X_train, y_train)"
   ]
  },
  {
   "cell_type": "code",
   "execution_count": 36,
   "id": "e2359490",
   "metadata": {
    "id": "e2359490",
    "outputId": "cd4dc1fc-62ad-4976-e38f-f99e8b081823"
   },
   "outputs": [
    {
     "name": "stdout",
     "output_type": "stream",
     "text": [
      "[[110051   4316]\n",
      " [ 20808  49035]]\n"
     ]
    }
   ],
   "source": [
    "from sklearn.metrics import confusion_matrix\n",
    "\n",
    "y_testpr_rf = mrf.predict(X_test)\n",
    "\n",
    "print(confusion_matrix(y_test, y_testpr_rf))"
   ]
  },
  {
   "cell_type": "code",
   "execution_count": 37,
   "id": "bc5a05aa",
   "metadata": {
    "id": "bc5a05aa",
    "outputId": "3a63de9d-cba3-45fb-8e25-e27de8c2b6ca"
   },
   "outputs": [
    {
     "name": "stdout",
     "output_type": "stream",
     "text": [
      "              precision    recall  f1-score   support\n",
      "\n",
      "           0       0.84      0.96      0.90    114367\n",
      "           1       0.92      0.70      0.80     69843\n",
      "\n",
      "    accuracy                           0.86    184210\n",
      "   macro avg       0.88      0.83      0.85    184210\n",
      "weighted avg       0.87      0.86      0.86    184210\n",
      "\n"
     ]
    }
   ],
   "source": [
    "y_testpr_rf = mrf.predict(X_test)\n",
    "\n",
    "from sklearn.metrics import classification_report\n",
    "print(classification_report(y_test, y_testpr_rf))"
   ]
  },
  {
   "cell_type": "code",
   "execution_count": 38,
   "id": "756660ea",
   "metadata": {
    "id": "756660ea",
    "outputId": "da7cb719-5627-41a6-f851-16ed1234e81f"
   },
   "outputs": [
    {
     "name": "stdout",
     "output_type": "stream",
     "text": [
      "0.796061496501453\n"
     ]
    }
   ],
   "source": [
    "from sklearn.metrics import f1_score\n",
    "y_testpr_rf = mrf.predict(X_test)\n",
    "print(f1_score(y_test, y_testpr_rf))"
   ]
  },
  {
   "cell_type": "code",
   "execution_count": 39,
   "id": "ab2da9d4",
   "metadata": {
    "id": "ab2da9d4",
    "outputId": "f3007874-36aa-438a-a27d-1ec7f83de4aa"
   },
   "outputs": [],
   "source": [
    "rf_toshow_df = X_test.copy()\n",
    "rf_toshow_df['Real'] = y_test\n",
    "rf_toshow_df['Pred'] = y_testpr_rf\n",
    "rf_toshow_df=rf_toshow_df.reset_index(drop=True)"
   ]
  },
  {
   "cell_type": "code",
   "execution_count": 40,
   "id": "f16a013e",
   "metadata": {
    "id": "f16a013e"
   },
   "outputs": [],
   "source": [
    "all_toshow_df[ \"Random Forest\"] = rf_toshow_df"
   ]
  },
  {
   "cell_type": "code",
   "execution_count": 41,
   "id": "bb39e071",
   "metadata": {
    "id": "bb39e071",
    "outputId": "4ad88959-e00c-486e-cb42-2097cddafb42"
   },
   "outputs": [
    {
     "data": {
      "image/png": "[encoded data removed]",
      "text/plain": [
       "<Figure size 432x288 with 1 Axes>"
      ]
     },
     "metadata": {
      "needs_background": "light"
     },
     "output_type": "display_data"
    }
   ],
   "source": [
    "from sklearn.metrics import roc_curve\n",
    "\n",
    "def generate_probs(X, model=mrf):\n",
    "    return model.predict_proba(X)[:, 1]\n",
    "\n",
    "def generate_roc(y, probs):\n",
    "    fpr, tpr, _ = roc_curve(y, probs)\n",
    "    return fpr, tpr\n",
    "    \n",
    "fpr_test, tpr_test = generate_roc(y_test, generate_probs(X_test))\n",
    "fpr_train, tpr_train = generate_roc(y_train, generate_probs(X_train))\n",
    "\n",
    "plt.plot(fpr_test, tpr_test,'-r')\n",
    "plt.plot(fpr_train, tpr_train,'-b')\n",
    "plt.xlabel('False Positive Rate')\n",
    "plt.ylabel('True Positive Rate')\n",
    "plt.legend(['Test','Training'])\n",
    "plt.plot([0, 1], [0, 1], color='navy', linestyle='--')\n",
    "plt.show()"
   ]
  },
  {
   "cell_type": "code",
   "execution_count": 42,
   "id": "6019d790",
   "metadata": {
    "id": "6019d790",
    "outputId": "6b7c26f4-867f-47d4-b1aa-9be67e69a609"
   },
   "outputs": [
    {
     "data": {
      "text/plain": [
       "0.8883525767179614"
      ]
     },
     "execution_count": 42,
     "metadata": {},
     "output_type": "execute_result"
    }
   ],
   "source": [
    "from sklearn.metrics import roc_auc_score\n",
    "\n",
    "roc_auc_score(y_test, generate_probs(X_test))"
   ]
  },
  {
   "cell_type": "markdown",
   "id": "fefc5876",
   "metadata": {
    "id": "fefc5876"
   },
   "source": [
    "## Hyper parameter tuning of random forest classifier"
   ]
  },
  {
   "cell_type": "code",
   "execution_count": 43,
   "id": "74475b37",
   "metadata": {
    "id": "74475b37",
    "outputId": "6b488909-3d6b-4de0-96f1-60b7943561d5"
   },
   "outputs": [
    {
     "data": {
      "text/plain": [
       "0.796061496501453"
      ]
     },
     "execution_count": 43,
     "metadata": {},
     "output_type": "execute_result"
    }
   ],
   "source": [
    "params = {'rf_classifier__max_depth': [300,400]\n",
    "              \n",
    "       }\n",
    "f1_scorer = make_scorer(f1_score)\n",
    "rf_reg_tuned = GridSearchCV(estimator=pipe3,\n",
    "                            param_grid=params,refit=True,\n",
    "                            scoring =f1_scorer )\n",
    "\n",
    "rf_reg_tuned.fit(X_train, y_train)\n",
    "rf_reg_tuned.score(X_test, y_test)"
   ]
  },
  {
   "cell_type": "code",
   "execution_count": 44,
   "id": "6b963e7a",
   "metadata": {
    "id": "6b963e7a",
    "outputId": "54b80a07-a154-4491-810c-22fb89c51001"
   },
   "outputs": [
    {
     "data": {
      "text/plain": [
       "{'rf_classifier__max_depth': 300}"
      ]
     },
     "execution_count": 44,
     "metadata": {},
     "output_type": "execute_result"
    }
   ],
   "source": [
    "rf_reg_tuned.best_params_"
   ]
  },
  {
   "cell_type": "code",
   "execution_count": 45,
   "id": "f3ef1379",
   "metadata": {
    "id": "f3ef1379",
    "outputId": "8e9b783f-70d8-41e8-a96f-6e6032af0307"
   },
   "outputs": [
    {
     "name": "stdout",
     "output_type": "stream",
     "text": [
      "[[110051   4316]\n",
      " [ 20808  49035]]\n"
     ]
    }
   ],
   "source": [
    "from sklearn.metrics import confusion_matrix\n",
    "\n",
    "y_testpr_rf = rf_reg_tuned.predict(X_test)\n",
    "\n",
    "print(confusion_matrix(y_test, y_testpr_rf))"
   ]
  },
  {
   "cell_type": "code",
   "execution_count": 46,
   "id": "15f7c100",
   "metadata": {
    "id": "15f7c100",
    "outputId": "0db9b778-9ffb-4a27-d09c-4d28cb0a8aa0"
   },
   "outputs": [
    {
     "name": "stdout",
     "output_type": "stream",
     "text": [
      "              precision    recall  f1-score   support\n",
      "\n",
      "           0       0.84      0.96      0.90    114367\n",
      "           1       0.92      0.70      0.80     69843\n",
      "\n",
      "    accuracy                           0.86    184210\n",
      "   macro avg       0.88      0.83      0.85    184210\n",
      "weighted avg       0.87      0.86      0.86    184210\n",
      "\n"
     ]
    }
   ],
   "source": [
    "y_testpr_rf = rf_reg_tuned.predict(X_test)\n",
    "\n",
    "from sklearn.metrics import classification_report\n",
    "print(classification_report(y_test, y_testpr_rf))"
   ]
  },
  {
   "cell_type": "code",
   "execution_count": 47,
   "id": "8ffc9fa5",
   "metadata": {
    "id": "8ffc9fa5",
    "outputId": "f6a9499c-7e0b-4a2a-a334-f659df4733ba"
   },
   "outputs": [
    {
     "name": "stdout",
     "output_type": "stream",
     "text": [
      "0.796061496501453\n"
     ]
    }
   ],
   "source": [
    "from sklearn.metrics import f1_score\n",
    "y_testp = rf_reg_tuned.predict(X_test)\n",
    "print(f1_score(y_test, y_testp))"
   ]
  },
  {
   "cell_type": "code",
   "execution_count": 48,
   "id": "25c3a117",
   "metadata": {
    "id": "25c3a117",
    "outputId": "7ba07a60-e16b-4c56-e6de-02a74364eeab"
   },
   "outputs": [
    {
     "name": "stdout",
     "output_type": "stream",
     "text": [
      "Current Time = 04:16:33\n"
     ]
    }
   ],
   "source": [
    "from datetime import datetime\n",
    "\n",
    "now = datetime.now()\n",
    "\n",
    "current_time = now.strftime(\"%H:%M:%S\")\n",
    "print(\"Current Time =\", current_time)"
   ]
  },
  {
   "cell_type": "markdown",
   "id": "4257669d",
   "metadata": {
    "id": "4257669d"
   },
   "source": [
    "## XG Boost"
   ]
  },
  {
   "cell_type": "code",
   "execution_count": 49,
   "id": "c6a41377",
   "metadata": {
    "id": "c6a41377",
    "outputId": "9dcf6b82-5d2d-4bbc-8f27-0749a66c9d12"
   },
   "outputs": [
    {
     "name": "stdout",
     "output_type": "stream",
     "text": [
      "Requirement already satisfied: xgboost in c:\\users\\mirza\\anaconda3\\lib\\site-packages (1.6.1)\n",
      "Requirement already satisfied: numpy in c:\\users\\mirza\\anaconda3\\lib\\site-packages (from xgboost) (1.21.5)\n",
      "Requirement already satisfied: scipy in c:\\users\\mirza\\anaconda3\\lib\\site-packages (from xgboost) (1.7.3)\n"
     ]
    }
   ],
   "source": [
    "! pip install xgboost"
   ]
  },
  {
   "cell_type": "code",
   "execution_count": 50,
   "id": "21ea4244",
   "metadata": {
    "id": "21ea4244"
   },
   "outputs": [],
   "source": [
    "pipe4 = Pipeline([('processing', processing_pipeline),\n",
    "    ('xgb_classifier', XGBClassifier(random_state=0))])\n",
    "mxgb= pipe4.fit(X_train, y_train)"
   ]
  },
  {
   "cell_type": "code",
   "execution_count": 51,
   "id": "e5f39aab",
   "metadata": {
    "id": "e5f39aab",
    "outputId": "62146481-0689-4840-cb23-1b638c8825d6"
   },
   "outputs": [
    {
     "name": "stdout",
     "output_type": "stream",
     "text": [
      "[[111362   3005]\n",
      " [ 18378  51465]]\n"
     ]
    }
   ],
   "source": [
    "from sklearn.metrics import confusion_matrix\n",
    "\n",
    "y_testpr_xg = mxgb.predict(X_test)\n",
    "\n",
    "print(confusion_matrix(y_test, y_testpr_xg))"
   ]
  },
  {
   "cell_type": "code",
   "execution_count": 52,
   "id": "d688a3c3",
   "metadata": {
    "id": "d688a3c3",
    "outputId": "bb2a8958-43a7-43ab-ee67-2ff119c09a78"
   },
   "outputs": [
    {
     "name": "stdout",
     "output_type": "stream",
     "text": [
      "              precision    recall  f1-score   support\n",
      "\n",
      "           0       0.86      0.97      0.91    114367\n",
      "           1       0.94      0.74      0.83     69843\n",
      "\n",
      "    accuracy                           0.88    184210\n",
      "   macro avg       0.90      0.86      0.87    184210\n",
      "weighted avg       0.89      0.88      0.88    184210\n",
      "\n"
     ]
    }
   ],
   "source": [
    "y_testpr_xg = mxgb.predict(X_test)\n",
    "\n",
    "from sklearn.metrics import classification_report\n",
    "print(classification_report(y_test, y_testpr_xg))"
   ]
  },
  {
   "cell_type": "code",
   "execution_count": 53,
   "id": "7fcce79a",
   "metadata": {
    "id": "7fcce79a",
    "outputId": "37827a73-28bc-4dcc-9e0a-22283780b31e"
   },
   "outputs": [
    {
     "name": "stdout",
     "output_type": "stream",
     "text": [
      "0.8279906365384152\n"
     ]
    }
   ],
   "source": [
    "from sklearn.metrics import f1_score\n",
    "y_testpr_xg = mxgb.predict(X_test)\n",
    "print(f1_score(y_test, y_testpr_xg))"
   ]
  },
  {
   "cell_type": "code",
   "execution_count": 54,
   "id": "459e39a9",
   "metadata": {
    "id": "459e39a9",
    "outputId": "a0bf80e5-23df-49c5-83bc-2553294476e3"
   },
   "outputs": [],
   "source": [
    "xgb_toshow_df = X_test.copy()\n",
    "xgb_toshow_df['Real'] = y_test\n",
    "xgb_toshow_df['Pred'] = y_testpr_xg\n",
    "xgb_toshow_df=xgb_toshow_df.reset_index(drop=True)"
   ]
  },
  {
   "cell_type": "code",
   "execution_count": 55,
   "id": "2155aaf1",
   "metadata": {
    "id": "2155aaf1"
   },
   "outputs": [],
   "source": [
    "all_toshow_df[\"XG Boost\"] = xgb_toshow_df"
   ]
  },
  {
   "cell_type": "code",
   "execution_count": 56,
   "id": "15677d6f",
   "metadata": {
    "id": "15677d6f",
    "outputId": "d1b72e83-e254-4d97-8818-fa0ddef1d671"
   },
   "outputs": [
    {
     "data": {
      "image/png": "[encoded data removed]",
      "text/plain": [
       "<Figure size 432x288 with 1 Axes>"
      ]
     },
     "metadata": {
      "needs_background": "light"
     },
     "output_type": "display_data"
    }
   ],
   "source": [
    "from sklearn.metrics import roc_curve\n",
    "\n",
    "def generate_probs(X, model=mxgb):\n",
    "    return model.predict_proba(X)[:, 1]\n",
    "\n",
    "def generate_roc(y, probs):\n",
    "    fpr, tpr, _ = roc_curve(y, probs)\n",
    "    return fpr, tpr\n",
    "    \n",
    "fpr_test, tpr_test = generate_roc(y_test, generate_probs(X_test))\n",
    "fpr_train, tpr_train = generate_roc(y_train, generate_probs(X_train))\n",
    "\n",
    "plt.plot(fpr_test, tpr_test,'-r')\n",
    "plt.plot(fpr_train, tpr_train,'-b')\n",
    "plt.xlabel('False Positive Rate')\n",
    "plt.ylabel('True Positive Rate')\n",
    "plt.legend(['Test','Training'])\n",
    "plt.plot([0, 1], [0, 1], color='navy', linestyle='--')\n",
    "plt.show()"
   ]
  },
  {
   "cell_type": "code",
   "execution_count": 57,
   "id": "51fa4be7",
   "metadata": {
    "id": "51fa4be7",
    "outputId": "f1810e59-458e-4d37-f0c6-fa3f39c8ebef"
   },
   "outputs": [
    {
     "data": {
      "text/plain": [
       "0.9269678049901594"
      ]
     },
     "execution_count": 57,
     "metadata": {},
     "output_type": "execute_result"
    }
   ],
   "source": [
    "from sklearn.metrics import roc_auc_score\n",
    "\n",
    "roc_auc_score(y_test, generate_probs(X_test))"
   ]
  },
  {
   "cell_type": "markdown",
   "id": "272a5030",
   "metadata": {
    "id": "272a5030"
   },
   "source": [
    "## Hyper parameter tuning of Xgboost Classifier"
   ]
  },
  {
   "cell_type": "code",
   "execution_count": 58,
   "id": "4b528376",
   "metadata": {
    "id": "4b528376",
    "outputId": "35b393f2-54a2-4f15-c324-f6b96ec53bf1"
   },
   "outputs": [
    {
     "data": {
      "text/plain": [
       "0.8283951312518603"
      ]
     },
     "execution_count": 58,
     "metadata": {},
     "output_type": "execute_result"
    }
   ],
   "source": [
    "params = {'xgb_classifier__n_estimators': [100,105]\n",
    "       }\n",
    "f1_scorer = make_scorer(f1_score)\n",
    "xgb_tuned = GridSearchCV(estimator=pipe4,\n",
    "                            param_grid=params,refit=True,\n",
    "                            scoring =f1_scorer )\n",
    "\n",
    "xgb_tuned.fit(X_train, y_train)\n",
    "xgb_tuned.score(X_test, y_test)"
   ]
  },
  {
   "cell_type": "code",
   "execution_count": 59,
   "id": "35c0e95e",
   "metadata": {
    "id": "35c0e95e"
   },
   "outputs": [
    {
     "data": {
      "text/plain": [
       "{'xgb_classifier__n_estimators': 105}"
      ]
     },
     "execution_count": 59,
     "metadata": {},
     "output_type": "execute_result"
    }
   ],
   "source": [
    "xgb_tuned.best_params_"
   ]
  },
  {
   "cell_type": "code",
   "execution_count": 60,
   "id": "08b50709",
   "metadata": {
    "id": "08b50709"
   },
   "outputs": [
    {
     "name": "stdout",
     "output_type": "stream",
     "text": [
      "[[111393   2974]\n",
      " [ 18357  51486]]\n"
     ]
    }
   ],
   "source": [
    "from sklearn.metrics import confusion_matrix\n",
    "\n",
    "y_testpr_xgb = xgb_tuned.predict(X_test)\n",
    "\n",
    "print(confusion_matrix(y_test, y_testpr_xgb))"
   ]
  },
  {
   "cell_type": "code",
   "execution_count": 61,
   "id": "f3807d3e",
   "metadata": {
    "id": "f3807d3e"
   },
   "outputs": [
    {
     "name": "stdout",
     "output_type": "stream",
     "text": [
      "              precision    recall  f1-score   support\n",
      "\n",
      "           0       0.86      0.97      0.91    114367\n",
      "           1       0.95      0.74      0.83     69843\n",
      "\n",
      "    accuracy                           0.88    184210\n",
      "   macro avg       0.90      0.86      0.87    184210\n",
      "weighted avg       0.89      0.88      0.88    184210\n",
      "\n"
     ]
    }
   ],
   "source": [
    "y_testpr_xgb = xgb_tuned.predict(X_test)\n",
    "\n",
    "from sklearn.metrics import classification_report\n",
    "print(classification_report(y_test, y_testpr_xgb))"
   ]
  },
  {
   "cell_type": "code",
   "execution_count": 62,
   "id": "58224975",
   "metadata": {
    "id": "58224975"
   },
   "outputs": [
    {
     "name": "stdout",
     "output_type": "stream",
     "text": [
      "0.8283951312518603\n"
     ]
    }
   ],
   "source": [
    "from sklearn.metrics import f1_score\n",
    "y_testp = xgb_tuned.predict(X_test)\n",
    "print(f1_score(y_test, y_testp))"
   ]
  },
  {
   "cell_type": "markdown",
   "id": "79df21ec",
   "metadata": {
    "id": "79df21ec"
   },
   "source": [
    "## Extra Trees Classifier"
   ]
  },
  {
   "cell_type": "code",
   "execution_count": 63,
   "id": "7fef5caa",
   "metadata": {
    "id": "7fef5caa"
   },
   "outputs": [],
   "source": [
    "from sklearn.ensemble import AdaBoostClassifier\n",
    "from sklearn.ensemble import ExtraTreesClassifier"
   ]
  },
  {
   "cell_type": "code",
   "execution_count": 64,
   "id": "567cda28",
   "metadata": {
    "id": "567cda28"
   },
   "outputs": [],
   "source": [
    "pipe5 = Pipeline([('processing', processing_pipeline),\n",
    "    ('et_classifier',  ExtraTreesClassifier(random_state=0))])\n",
    "met= pipe5.fit(X_train, y_train)"
   ]
  },
  {
   "cell_type": "code",
   "execution_count": 65,
   "id": "6db4d020",
   "metadata": {
    "id": "6db4d020"
   },
   "outputs": [
    {
     "name": "stdout",
     "output_type": "stream",
     "text": [
      "[[106372   7995]\n",
      " [ 13683  56160]]\n"
     ]
    }
   ],
   "source": [
    "from sklearn.metrics import confusion_matrix\n",
    "\n",
    "y_testpr_et = met.predict(X_test)\n",
    "\n",
    "print(confusion_matrix(y_test,  y_testpr_et))"
   ]
  },
  {
   "cell_type": "code",
   "execution_count": 66,
   "id": "a1486094",
   "metadata": {
    "id": "a1486094"
   },
   "outputs": [
    {
     "name": "stdout",
     "output_type": "stream",
     "text": [
      "              precision    recall  f1-score   support\n",
      "\n",
      "           0       0.89      0.93      0.91    114367\n",
      "           1       0.88      0.80      0.84     69843\n",
      "\n",
      "    accuracy                           0.88    184210\n",
      "   macro avg       0.88      0.87      0.87    184210\n",
      "weighted avg       0.88      0.88      0.88    184210\n",
      "\n"
     ]
    }
   ],
   "source": [
    "y_testpr_et = met.predict(X_test)\n",
    "\n",
    "from sklearn.metrics import classification_report\n",
    "print(classification_report(y_test, y_testpr_et))"
   ]
  },
  {
   "cell_type": "code",
   "execution_count": 67,
   "id": "d2d99455",
   "metadata": {
    "id": "d2d99455"
   },
   "outputs": [
    {
     "name": "stdout",
     "output_type": "stream",
     "text": [
      "0.8382214659920297\n"
     ]
    }
   ],
   "source": [
    "from sklearn.metrics import f1_score\n",
    "y_testpr_et = met.predict(X_test)\n",
    "print(f1_score(y_test, y_testpr_et))"
   ]
  },
  {
   "cell_type": "code",
   "execution_count": 68,
   "id": "3ed2404d",
   "metadata": {
    "id": "3ed2404d"
   },
   "outputs": [],
   "source": [
    "extt_toshow_df = X_test.copy()\n",
    "extt_toshow_df['Real'] = y_test\n",
    "extt_toshow_df['Pred'] = y_testpr_et\n",
    "extt_toshow_df=extt_toshow_df.reset_index(drop=True)"
   ]
  },
  {
   "cell_type": "code",
   "execution_count": 69,
   "id": "94c4f296",
   "metadata": {
    "id": "94c4f296"
   },
   "outputs": [],
   "source": [
    "all_toshow_df[\"Extra Tree\"] = extt_toshow_df"
   ]
  },
  {
   "cell_type": "code",
   "execution_count": 70,
   "id": "87d85782",
   "metadata": {
    "id": "87d85782"
   },
   "outputs": [
    {
     "data": {
      "image/png": "[encoded data removed]",
      "text/plain": [
       "<Figure size 432x288 with 1 Axes>"
      ]
     },
     "metadata": {
      "needs_background": "light"
     },
     "output_type": "display_data"
    }
   ],
   "source": [
    "from sklearn.metrics import roc_curve\n",
    "\n",
    "def generate_probs(X, model=met):\n",
    "    return model.predict_proba(X)[:, 1]\n",
    "\n",
    "def generate_roc(y, probs):\n",
    "    fpr, tpr, _ = roc_curve(y, probs)\n",
    "    return fpr, tpr\n",
    "    \n",
    "fpr_test, tpr_test = generate_roc(y_test, generate_probs(X_test))\n",
    "fpr_train, tpr_train = generate_roc(y_train, generate_probs(X_train))\n",
    "\n",
    "plt.plot(fpr_test, tpr_test,'-r')\n",
    "plt.plot(fpr_train, tpr_train,'-b')\n",
    "plt.xlabel('False Positive Rate')\n",
    "plt.ylabel('True Positive Rate')\n",
    "plt.legend(['Test','Training'])\n",
    "plt.plot([0, 1], [0, 1], color='navy', linestyle='--')\n",
    "plt.show()"
   ]
  },
  {
   "cell_type": "code",
   "execution_count": 71,
   "id": "dcdfb7cc",
   "metadata": {
    "id": "dcdfb7cc"
   },
   "outputs": [
    {
     "data": {
      "text/plain": [
       "0.9183352281904076"
      ]
     },
     "execution_count": 71,
     "metadata": {},
     "output_type": "execute_result"
    }
   ],
   "source": [
    "from sklearn.metrics import roc_auc_score\n",
    "\n",
    "roc_auc_score(y_test, generate_probs(X_test))"
   ]
  },
  {
   "cell_type": "markdown",
   "id": "2655f928",
   "metadata": {
    "id": "2655f928"
   },
   "source": [
    "## Hyperparameter tuning of Extra Tree Classifier"
   ]
  },
  {
   "cell_type": "code",
   "execution_count": 72,
   "id": "4617ba66",
   "metadata": {
    "id": "4617ba66"
   },
   "outputs": [
    {
     "data": {
      "text/plain": [
       "0.8388001372294567"
      ]
     },
     "execution_count": 72,
     "metadata": {},
     "output_type": "execute_result"
    }
   ],
   "source": [
    "params = {'et_classifier__criterion': ['gini','entropy']\n",
    "               \n",
    "       }\n",
    "f1_scorer = make_scorer(f1_score)\n",
    "et_tuned = GridSearchCV(estimator=pipe5,\n",
    "                            param_grid=params,refit=True,\n",
    "                            scoring =f1_scorer )\n",
    "\n",
    "et_tuned.fit(X_train, y_train)\n",
    "et_tuned.score(X_test, y_test)"
   ]
  },
  {
   "cell_type": "code",
   "execution_count": 73,
   "id": "44b3eb05",
   "metadata": {
    "id": "44b3eb05"
   },
   "outputs": [
    {
     "data": {
      "text/plain": [
       "{'et_classifier__criterion': 'entropy'}"
      ]
     },
     "execution_count": 73,
     "metadata": {},
     "output_type": "execute_result"
    }
   ],
   "source": [
    "et_tuned.best_params_"
   ]
  },
  {
   "cell_type": "code",
   "execution_count": 74,
   "id": "450d19e8",
   "metadata": {
    "id": "450d19e8"
   },
   "outputs": [
    {
     "name": "stdout",
     "output_type": "stream",
     "text": [
      "[[106362   8005]\n",
      " [ 13609  56234]]\n"
     ]
    }
   ],
   "source": [
    "from sklearn.metrics import confusion_matrix\n",
    "\n",
    "y_testpr_et = et_tuned.predict(X_test)\n",
    "\n",
    "print(confusion_matrix(y_test, y_testpr_et))"
   ]
  },
  {
   "cell_type": "code",
   "execution_count": 75,
   "id": "7083f6bd",
   "metadata": {
    "id": "7083f6bd"
   },
   "outputs": [
    {
     "name": "stdout",
     "output_type": "stream",
     "text": [
      "              precision    recall  f1-score   support\n",
      "\n",
      "           0       0.89      0.93      0.91    114367\n",
      "           1       0.88      0.81      0.84     69843\n",
      "\n",
      "    accuracy                           0.88    184210\n",
      "   macro avg       0.88      0.87      0.87    184210\n",
      "weighted avg       0.88      0.88      0.88    184210\n",
      "\n"
     ]
    }
   ],
   "source": [
    "y_testpr_et= et_tuned.predict(X_test)\n",
    "\n",
    "from sklearn.metrics import classification_report\n",
    "print(classification_report(y_test,y_testpr_et ))"
   ]
  },
  {
   "cell_type": "code",
   "execution_count": 76,
   "id": "3575c087",
   "metadata": {
    "id": "3575c087"
   },
   "outputs": [
    {
     "name": "stdout",
     "output_type": "stream",
     "text": [
      "0.8388001372294567\n"
     ]
    }
   ],
   "source": [
    "from sklearn.metrics import f1_score\n",
    "y_testpr_et = et_tuned.predict(X_test)\n",
    "print(f1_score(y_test, y_testpr_et))"
   ]
  },
  {
   "cell_type": "markdown",
   "id": "c579f3b5",
   "metadata": {
    "id": "c579f3b5"
   },
   "source": [
    "## Ada boost"
   ]
  },
  {
   "cell_type": "code",
   "execution_count": 77,
   "id": "ce30c0ef",
   "metadata": {
    "id": "ce30c0ef"
   },
   "outputs": [],
   "source": [
    "pipe6 = Pipeline([('processing', processing_pipeline),\n",
    "    ('ab_classifier',  AdaBoostClassifier(random_state=0))])\n",
    "m= pipe6.fit(X_train, y_train)"
   ]
  },
  {
   "cell_type": "code",
   "execution_count": 78,
   "id": "e7fdcf5f",
   "metadata": {
    "id": "e7fdcf5f"
   },
   "outputs": [
    {
     "name": "stdout",
     "output_type": "stream",
     "text": [
      "[[113814    553]\n",
      " [ 25486  44357]]\n"
     ]
    }
   ],
   "source": [
    "from sklearn.metrics import confusion_matrix\n",
    "\n",
    "y_testpr_ab = m.predict(X_test)\n",
    "\n",
    "print(confusion_matrix(y_test,  y_testpr_ab))"
   ]
  },
  {
   "cell_type": "code",
   "execution_count": 79,
   "id": "9a79450b",
   "metadata": {
    "id": "9a79450b"
   },
   "outputs": [
    {
     "name": "stdout",
     "output_type": "stream",
     "text": [
      "              precision    recall  f1-score   support\n",
      "\n",
      "           0       0.82      1.00      0.90    114367\n",
      "           1       0.99      0.64      0.77     69843\n",
      "\n",
      "    accuracy                           0.86    184210\n",
      "   macro avg       0.90      0.82      0.84    184210\n",
      "weighted avg       0.88      0.86      0.85    184210\n",
      "\n"
     ]
    }
   ],
   "source": [
    "y_testpr_ab = m.predict(X_test)\n",
    "\n",
    "from sklearn.metrics import classification_report\n",
    "print(classification_report(y_test, y_testpr_ab))"
   ]
  },
  {
   "cell_type": "code",
   "execution_count": 80,
   "id": "c15c1a0c",
   "metadata": {
    "id": "c15c1a0c"
   },
   "outputs": [
    {
     "name": "stdout",
     "output_type": "stream",
     "text": [
      "0.773086542399763\n"
     ]
    }
   ],
   "source": [
    "from sklearn.metrics import f1_score\n",
    "y_testpr_ab = m.predict(X_test)\n",
    "print(f1_score(y_test, y_testpr_ab))"
   ]
  },
  {
   "cell_type": "code",
   "execution_count": 81,
   "id": "6e42b0de",
   "metadata": {
    "id": "6e42b0de"
   },
   "outputs": [],
   "source": [
    "adb_toshow_df = X_test.copy()\n",
    "adb_toshow_df['Real'] = y_test\n",
    "adb_toshow_df['Pred'] = y_testpr_ab\n",
    "#adb_toshow_df=adb_toshow_df[20:30]\n",
    "adb_toshow_df=adb_toshow_df.reset_index(drop=True)"
   ]
  },
  {
   "cell_type": "code",
   "execution_count": 82,
   "id": "72a1d77d",
   "metadata": {
    "id": "72a1d77d"
   },
   "outputs": [],
   "source": [
    "all_toshow_df[\"Ada Boost\"] = adb_toshow_df"
   ]
  },
  {
   "cell_type": "code",
   "execution_count": 83,
   "id": "c3f3a38b",
   "metadata": {
    "id": "c3f3a38b"
   },
   "outputs": [
    {
     "data": {
      "image/png": "[encoded data removed]",
      "text/plain": [
       "<Figure size 432x288 with 1 Axes>"
      ]
     },
     "metadata": {
      "needs_background": "light"
     },
     "output_type": "display_data"
    }
   ],
   "source": [
    "from sklearn.metrics import roc_curve\n",
    "\n",
    "def generate_probs(X, model=m):\n",
    "    return model.predict_proba(X)[:, 1]\n",
    "\n",
    "def generate_roc(y, probs):\n",
    "    fpr, tpr, _ = roc_curve(y, probs)\n",
    "    return fpr, tpr\n",
    "    \n",
    "fpr_test, tpr_test = generate_roc(y_test, generate_probs(X_test))\n",
    "fpr_train, tpr_train = generate_roc(y_train, generate_probs(X_train))\n",
    "\n",
    "plt.plot(fpr_test, tpr_test,'-r')\n",
    "plt.plot(fpr_train, tpr_train,'-b')\n",
    "plt.xlabel('False Positive Rate')\n",
    "plt.ylabel('True Positive Rate')\n",
    "plt.legend(['Test','Training'])\n",
    "plt.plot([0, 1], [0, 1], color='navy', linestyle='--')\n",
    "plt.show()"
   ]
  },
  {
   "cell_type": "code",
   "execution_count": 84,
   "id": "e0b7983f",
   "metadata": {
    "id": "e0b7983f"
   },
   "outputs": [
    {
     "data": {
      "text/plain": [
       "0.8774668851247572"
      ]
     },
     "execution_count": 84,
     "metadata": {},
     "output_type": "execute_result"
    }
   ],
   "source": [
    "from sklearn.metrics import roc_auc_score\n",
    "\n",
    "roc_auc_score(y_test, generate_probs(X_test))"
   ]
  },
  {
   "cell_type": "markdown",
   "id": "26ab5988",
   "metadata": {
    "id": "26ab5988"
   },
   "source": [
    "## Hyperparameter tuning of Adaboost"
   ]
  },
  {
   "cell_type": "code",
   "execution_count": 85,
   "id": "5e4f6056",
   "metadata": {
    "id": "5e4f6056"
   },
   "outputs": [
    {
     "data": {
      "text/plain": [
       "0.796893862768769"
      ]
     },
     "execution_count": 85,
     "metadata": {},
     "output_type": "execute_result"
    }
   ],
   "source": [
    "params = {\n",
    "               'ab_classifier__n_estimators': [105]\n",
    "         }\n",
    "f1_scorer = make_scorer(f1_score)\n",
    "ab_tuned = GridSearchCV(estimator=pipe6,\n",
    "                            param_grid=params,refit=True,\n",
    "                            scoring =f1_scorer )\n",
    "\n",
    "ab_tuned.fit(X_train, y_train)\n",
    "ab_tuned.score(X_test, y_test)"
   ]
  },
  {
   "cell_type": "code",
   "execution_count": 86,
   "id": "13b705af",
   "metadata": {
    "id": "13b705af"
   },
   "outputs": [
    {
     "data": {
      "text/plain": [
       "{'ab_classifier__n_estimators': 105}"
      ]
     },
     "execution_count": 86,
     "metadata": {},
     "output_type": "execute_result"
    }
   ],
   "source": [
    "ab_tuned.best_params_"
   ]
  },
  {
   "cell_type": "code",
   "execution_count": 87,
   "id": "800b6ad9",
   "metadata": {
    "id": "800b6ad9"
   },
   "outputs": [
    {
     "name": "stdout",
     "output_type": "stream",
     "text": [
      "[[110462   3905]\n",
      " [ 20995  48848]]\n"
     ]
    }
   ],
   "source": [
    "from sklearn.metrics import confusion_matrix\n",
    "\n",
    "y_testpr_ab = ab_tuned.predict(X_test)\n",
    "\n",
    "print(confusion_matrix(y_test, y_testpr_ab))"
   ]
  },
  {
   "cell_type": "code",
   "execution_count": 88,
   "id": "aa469180",
   "metadata": {
    "id": "aa469180"
   },
   "outputs": [
    {
     "name": "stdout",
     "output_type": "stream",
     "text": [
      "              precision    recall  f1-score   support\n",
      "\n",
      "           0       0.84      0.97      0.90    114367\n",
      "           1       0.93      0.70      0.80     69843\n",
      "\n",
      "    accuracy                           0.86    184210\n",
      "   macro avg       0.88      0.83      0.85    184210\n",
      "weighted avg       0.87      0.86      0.86    184210\n",
      "\n"
     ]
    }
   ],
   "source": [
    "y_testpr_ab = ab_tuned.predict(X_test)\n",
    "from sklearn.metrics import classification_report\n",
    "print(classification_report(y_test,y_testpr_ab))"
   ]
  },
  {
   "cell_type": "code",
   "execution_count": 89,
   "id": "67f97fb4",
   "metadata": {
    "id": "67f97fb4"
   },
   "outputs": [
    {
     "name": "stdout",
     "output_type": "stream",
     "text": [
      "0.796893862768769\n"
     ]
    }
   ],
   "source": [
    "from sklearn.metrics import f1_score\n",
    "y_testpr_ab= ab_tuned.predict(X_test)\n",
    "print(f1_score(y_test, y_testpr_ab))"
   ]
  },
  {
   "cell_type": "code",
   "execution_count": 90,
   "id": "8aede1b2",
   "metadata": {
    "id": "8aede1b2"
   },
   "outputs": [],
   "source": [
    "import pickle\n",
    "file = open('to_show_df.pkl', 'wb')\n",
    "pickle.dump(all_toshow_df, file)                     \n",
    "file.close()"
   ]
  },
  {
   "cell_type": "markdown",
   "id": "d65e027a",
   "metadata": {
    "id": "d65e027a"
   },
   "source": [
    "## Visual Comparisions"
   ]
  },
  {
   "cell_type": "code",
   "execution_count": 100,
   "id": "04d17a93",
   "metadata": {
    "id": "04d17a93"
   },
   "outputs": [
    {
     "data": {
      "text/html": [
       "<div>\n",
       "<style scoped>\n",
       "    .dataframe tbody tr th:only-of-type {\n",
       "        vertical-align: middle;\n",
       "    }\n",
       "\n",
       "    .dataframe tbody tr th {\n",
       "        vertical-align: top;\n",
       "    }\n",
       "\n",
       "    .dataframe thead th {\n",
       "        text-align: right;\n",
       "    }\n",
       "</style>\n",
       "<table border=\"1\" class=\"dataframe\">\n",
       "  <thead>\n",
       "    <tr style=\"text-align: right;\">\n",
       "      <th></th>\n",
       "      <th>ML_Model</th>\n",
       "      <th>f1_score</th>\n",
       "    </tr>\n",
       "  </thead>\n",
       "  <tbody>\n",
       "    <tr>\n",
       "      <th>0</th>\n",
       "      <td>LR</td>\n",
       "      <td>0.7963</td>\n",
       "    </tr>\n",
       "    <tr>\n",
       "      <th>1</th>\n",
       "      <td>DT</td>\n",
       "      <td>0.8064</td>\n",
       "    </tr>\n",
       "    <tr>\n",
       "      <th>2</th>\n",
       "      <td>RF</td>\n",
       "      <td>0.7960</td>\n",
       "    </tr>\n",
       "    <tr>\n",
       "      <th>3</th>\n",
       "      <td>XG</td>\n",
       "      <td>0.8279</td>\n",
       "    </tr>\n",
       "    <tr>\n",
       "      <th>4</th>\n",
       "      <td>ET</td>\n",
       "      <td>0.8382</td>\n",
       "    </tr>\n",
       "    <tr>\n",
       "      <th>5</th>\n",
       "      <td>ADB</td>\n",
       "      <td>0.7730</td>\n",
       "    </tr>\n",
       "  </tbody>\n",
       "</table>\n",
       "</div>"
      ],
      "text/plain": [
       "  ML_Model  f1_score\n",
       "0       LR    0.7963\n",
       "1       DT    0.8064\n",
       "2       RF    0.7960\n",
       "3       XG    0.8279\n",
       "4       ET    0.8382\n",
       "5      ADB    0.7730"
      ]
     },
     "execution_count": 100,
     "metadata": {},
     "output_type": "execute_result"
    }
   ],
   "source": [
    "comp_model_performence = pd.DataFrame()\n",
    "ml_model = ['LR','DT','RF','XG','ET','ADB']\n",
    "f1_score = [0.7963,0.8064,0.7960,0.8279,0.8382,0.7730]\n",
    "roc_auc_score = [0.9097,0.8450,0.8883,0.9269,0.9183,0.8774]\n",
    "\n",
    "comp_model_performence['ML_Model']=ml_model\n",
    "comp_model_performence['f1_score']=f1_score\n",
    "comp_model_performence['roc_auc_score']=roc_auc_score\n",
    "comp_model_performence"
   ]
  },
  {
   "cell_type": "code",
   "execution_count": 98,
   "id": "8db4706a",
   "metadata": {
    "id": "8db4706a"
   },
   "outputs": [
    {
     "data": {
      "image/png": "[encoded data removed]",
      "text/plain": [
       "<Figure size 648x576 with 1 Axes>"
      ]
     },
     "metadata": {
      "needs_background": "light"
     },
     "output_type": "display_data"
    }
   ],
   "source": [
    "comp_model_performence.plot(x=\"ML_Model\", y=[\"f1_score\"], kind=\"bar\", figsize=(9, 8))\n",
    "plt.xlabel('Machine learning model',size=16)\n",
    "plt.ylabel('Model scores',size=16)\n",
    "plt.title('Model Performance Comparision',size=20)\n",
    "plt.show()"
   ]
  },
  {
   "cell_type": "code",
   "execution_count": 99,
   "id": "833ff485",
   "metadata": {},
   "outputs": [
    {
     "data": {
      "text/html": [
       "<div>\n",
       "<style scoped>\n",
       "    .dataframe tbody tr th:only-of-type {\n",
       "        vertical-align: middle;\n",
       "    }\n",
       "\n",
       "    .dataframe tbody tr th {\n",
       "        vertical-align: top;\n",
       "    }\n",
       "\n",
       "    .dataframe thead th {\n",
       "        text-align: right;\n",
       "    }\n",
       "</style>\n",
       "<table border=\"1\" class=\"dataframe\">\n",
       "  <thead>\n",
       "    <tr style=\"text-align: right;\">\n",
       "      <th></th>\n",
       "      <th>ML_Model</th>\n",
       "      <th>f1_score</th>\n",
       "    </tr>\n",
       "  </thead>\n",
       "  <tbody>\n",
       "    <tr>\n",
       "      <th>0</th>\n",
       "      <td>LR</td>\n",
       "      <td>0.7964</td>\n",
       "    </tr>\n",
       "    <tr>\n",
       "      <th>1</th>\n",
       "      <td>DT</td>\n",
       "      <td>0.8381</td>\n",
       "    </tr>\n",
       "    <tr>\n",
       "      <th>2</th>\n",
       "      <td>RF</td>\n",
       "      <td>0.7960</td>\n",
       "    </tr>\n",
       "    <tr>\n",
       "      <th>3</th>\n",
       "      <td>XG</td>\n",
       "      <td>0.8283</td>\n",
       "    </tr>\n",
       "    <tr>\n",
       "      <th>4</th>\n",
       "      <td>ET</td>\n",
       "      <td>0.8388</td>\n",
       "    </tr>\n",
       "    <tr>\n",
       "      <th>5</th>\n",
       "      <td>ADB</td>\n",
       "      <td>0.7968</td>\n",
       "    </tr>\n",
       "  </tbody>\n",
       "</table>\n",
       "</div>"
      ],
      "text/plain": [
       "  ML_Model  f1_score\n",
       "0       LR    0.7964\n",
       "1       DT    0.8381\n",
       "2       RF    0.7960\n",
       "3       XG    0.8283\n",
       "4       ET    0.8388\n",
       "5      ADB    0.7968"
      ]
     },
     "execution_count": 99,
     "metadata": {},
     "output_type": "execute_result"
    }
   ],
   "source": [
    "tuned_df = pd.DataFrame()\n",
    "ml_model = ['LR','DT','RF','XG','ET','ADB']\n",
    "f1_score = [0.7964,0.8381,0.7960,0.8283,0.8388,0.7968]\n",
    "tuned_df['ML_Model']=ml_model\n",
    "\n",
    "tuned_df['f1_score']=f1_score\n",
    "tuned_df "
   ]
  },
  {
   "cell_type": "code",
   "execution_count": 94,
   "id": "51d609a3",
   "metadata": {},
   "outputs": [
    {
     "data": {
      "image/png": "[encoded data removed]",
      "text/plain": [
       "<Figure size 648x576 with 1 Axes>"
      ]
     },
     "metadata": {
      "needs_background": "light"
     },
     "output_type": "display_data"
    }
   ],
   "source": [
    "tuned_df.plot(x=\"ML_Model\", y=[\"f1_score\"], kind=\"bar\", figsize=(9, 8))\n",
    "plt.xlabel('Machine learning model',size=16)\n",
    "plt.ylabel('Model scores',size=16)\n",
    "plt.title('Model Performance Comparision',size=20)\n",
    "plt.show()"
   ]
  },
  {
   "cell_type": "code",
   "execution_count": 107,
   "id": "b2271900",
   "metadata": {},
   "outputs": [
    {
     "data": {
      "text/plain": [
       "{'Select Algorithm': ' ',\n",
       " 'Logistic Regression':         Provider  InscClaimAmtReimbursed AttendingPhysician  \\\n",
       " 0        PRV0000                      60            PHY0000   \n",
       " 1       PRV54742                       0            PHY0000   \n",
       " 2       PRV52059                      10            PHY0000   \n",
       " 3        PRV0000                      40            PHY0000   \n",
       " 4        PRV0000                      30            PHY0000   \n",
       " ...          ...                     ...                ...   \n",
       " 184205  PRV51347                     400            PHY0000   \n",
       " 184206   PRV0000                     800            PHY0000   \n",
       " 184207  PRV56689                      10            PHY0000   \n",
       " 184208   PRV0000                     300            PHY0000   \n",
       " 184209   PRV0000                    1300            PHY0000   \n",
       " \n",
       "        OperatingPhysician OtherPhysician ClmAdmitDiagnosisCode  \\\n",
       " 0                       0       PHY12345                     0   \n",
       " 1                       0      PHY335146                     0   \n",
       " 2                       0              0                     0   \n",
       " 3                       0              0                     0   \n",
       " 4                       0       PHY12345                     0   \n",
       " ...                   ...            ...                   ...   \n",
       " 184205                  0      PHY396637                     0   \n",
       " 184206                  0              0                     0   \n",
       " 184207           PHY11111              0                     0   \n",
       " 184208                  0              0                  V571   \n",
       " 184209                  0              0                 V1234   \n",
       " \n",
       "         DeductibleAmtPaid  DiagnosisGroupCode  days_admitted  Claim_duration  \\\n",
       " 0                     0.0                   0            0.0             0.0   \n",
       " 1                     0.0                   0            0.0             0.0   \n",
       " 2                     0.0                   0            0.0             0.0   \n",
       " 3                     0.0                   0            0.0             0.0   \n",
       " 4                     0.0                   0            0.0             0.0   \n",
       " ...                   ...                 ...            ...             ...   \n",
       " 184205                0.0                   0            0.0             0.0   \n",
       " 184206                0.0                   0            0.0             0.0   \n",
       " 184207                0.0                   0            0.0             0.0   \n",
       " 184208                0.0                   0            0.0             0.0   \n",
       " 184209                0.0                   0            0.0             0.0   \n",
       " \n",
       "         ...  Patient_Age  is_dead  Patient_Risk_Score  \\\n",
       " 0       ...         79.0        0                   4   \n",
       " 1       ...         84.0        0                   7   \n",
       " 2       ...         71.0        0                   7   \n",
       " 3       ...         88.0        0                   4   \n",
       " 4       ...        101.0        0                   5   \n",
       " ...     ...          ...      ...                 ...   \n",
       " 184205  ...         75.0        0                   3   \n",
       " 184206  ...         32.0        0                   6   \n",
       " 184207  ...         71.0        0                   3   \n",
       " 184208  ...         49.0        0                   3   \n",
       " 184209  ...         61.0        0                   4   \n",
       " \n",
       "         Total_ip_op_AnnualReimbursementAmt  Total_ip_op_AnnualDeductibleAmt  \\\n",
       " 0                                      270                              110   \n",
       " 1                                     4360                              860   \n",
       " 2                                    28490                             2776   \n",
       " 3                                     1170                              380   \n",
       " 4                                      210                              460   \n",
       " ...                                    ...                              ...   \n",
       " 184205                                 990                              360   \n",
       " 184206                                1140                               90   \n",
       " 184207                                4050                             1380   \n",
       " 184208                                 670                             1290   \n",
       " 184209                                2720                             1210   \n",
       " \n",
       "         Total_physicans_attended  Total_ClmDiagnosisCode  \\\n",
       " 0                              2                      10   \n",
       " 1                              2                      10   \n",
       " 2                              1                      10   \n",
       " 3                              1                      10   \n",
       " 4                              2                      10   \n",
       " ...                          ...                     ...   \n",
       " 184205                         2                      10   \n",
       " 184206                         1                      10   \n",
       " 184207                         2                      10   \n",
       " 184208                         1                      10   \n",
       " 184209                         1                      10   \n",
       " \n",
       "         Total_ClmProcedureCode  Real  Pred  \n",
       " 0                            0     0     0  \n",
       " 1                            0     1     1  \n",
       " 2                            0     1     1  \n",
       " 3                            0     0     0  \n",
       " 4                            0     0     0  \n",
       " ...                        ...   ...   ...  \n",
       " 184205                       0     1     1  \n",
       " 184206                       0     0     0  \n",
       " 184207                       0     1     1  \n",
       " 184208                       0     0     0  \n",
       " 184209                       0     1     0  \n",
       " \n",
       " [184210 rows x 44 columns],\n",
       " 'Decision Tree':         Provider  InscClaimAmtReimbursed AttendingPhysician  \\\n",
       " 0        PRV0000                      60            PHY0000   \n",
       " 1       PRV54742                       0            PHY0000   \n",
       " 2       PRV52059                      10            PHY0000   \n",
       " 3        PRV0000                      40            PHY0000   \n",
       " 4        PRV0000                      30            PHY0000   \n",
       " ...          ...                     ...                ...   \n",
       " 184205  PRV51347                     400            PHY0000   \n",
       " 184206   PRV0000                     800            PHY0000   \n",
       " 184207  PRV56689                      10            PHY0000   \n",
       " 184208   PRV0000                     300            PHY0000   \n",
       " 184209   PRV0000                    1300            PHY0000   \n",
       " \n",
       "        OperatingPhysician OtherPhysician ClmAdmitDiagnosisCode  \\\n",
       " 0                       0       PHY12345                     0   \n",
       " 1                       0      PHY335146                     0   \n",
       " 2                       0              0                     0   \n",
       " 3                       0              0                     0   \n",
       " 4                       0       PHY12345                     0   \n",
       " ...                   ...            ...                   ...   \n",
       " 184205                  0      PHY396637                     0   \n",
       " 184206                  0              0                     0   \n",
       " 184207           PHY11111              0                     0   \n",
       " 184208                  0              0                  V571   \n",
       " 184209                  0              0                 V1234   \n",
       " \n",
       "         DeductibleAmtPaid  DiagnosisGroupCode  days_admitted  Claim_duration  \\\n",
       " 0                     0.0                   0            0.0             0.0   \n",
       " 1                     0.0                   0            0.0             0.0   \n",
       " 2                     0.0                   0            0.0             0.0   \n",
       " 3                     0.0                   0            0.0             0.0   \n",
       " 4                     0.0                   0            0.0             0.0   \n",
       " ...                   ...                 ...            ...             ...   \n",
       " 184205                0.0                   0            0.0             0.0   \n",
       " 184206                0.0                   0            0.0             0.0   \n",
       " 184207                0.0                   0            0.0             0.0   \n",
       " 184208                0.0                   0            0.0             0.0   \n",
       " 184209                0.0                   0            0.0             0.0   \n",
       " \n",
       "         ...  Patient_Age  is_dead  Patient_Risk_Score  \\\n",
       " 0       ...         79.0        0                   4   \n",
       " 1       ...         84.0        0                   7   \n",
       " 2       ...         71.0        0                   7   \n",
       " 3       ...         88.0        0                   4   \n",
       " 4       ...        101.0        0                   5   \n",
       " ...     ...          ...      ...                 ...   \n",
       " 184205  ...         75.0        0                   3   \n",
       " 184206  ...         32.0        0                   6   \n",
       " 184207  ...         71.0        0                   3   \n",
       " 184208  ...         49.0        0                   3   \n",
       " 184209  ...         61.0        0                   4   \n",
       " \n",
       "         Total_ip_op_AnnualReimbursementAmt  Total_ip_op_AnnualDeductibleAmt  \\\n",
       " 0                                      270                              110   \n",
       " 1                                     4360                              860   \n",
       " 2                                    28490                             2776   \n",
       " 3                                     1170                              380   \n",
       " 4                                      210                              460   \n",
       " ...                                    ...                              ...   \n",
       " 184205                                 990                              360   \n",
       " 184206                                1140                               90   \n",
       " 184207                                4050                             1380   \n",
       " 184208                                 670                             1290   \n",
       " 184209                                2720                             1210   \n",
       " \n",
       "         Total_physicans_attended  Total_ClmDiagnosisCode  \\\n",
       " 0                              2                      10   \n",
       " 1                              2                      10   \n",
       " 2                              1                      10   \n",
       " 3                              1                      10   \n",
       " 4                              2                      10   \n",
       " ...                          ...                     ...   \n",
       " 184205                         2                      10   \n",
       " 184206                         1                      10   \n",
       " 184207                         2                      10   \n",
       " 184208                         1                      10   \n",
       " 184209                         1                      10   \n",
       " \n",
       "         Total_ClmProcedureCode  Real  Pred  \n",
       " 0                            0     0     0  \n",
       " 1                            0     1     1  \n",
       " 2                            0     1     1  \n",
       " 3                            0     0     0  \n",
       " 4                            0     0     0  \n",
       " ...                        ...   ...   ...  \n",
       " 184205                       0     1     1  \n",
       " 184206                       0     0     0  \n",
       " 184207                       0     1     1  \n",
       " 184208                       0     0     0  \n",
       " 184209                       0     1     0  \n",
       " \n",
       " [184210 rows x 44 columns],\n",
       " 'Random Forest':         Provider  InscClaimAmtReimbursed AttendingPhysician  \\\n",
       " 0        PRV0000                      60            PHY0000   \n",
       " 1       PRV54742                       0            PHY0000   \n",
       " 2       PRV52059                      10            PHY0000   \n",
       " 3        PRV0000                      40            PHY0000   \n",
       " 4        PRV0000                      30            PHY0000   \n",
       " ...          ...                     ...                ...   \n",
       " 184205  PRV51347                     400            PHY0000   \n",
       " 184206   PRV0000                     800            PHY0000   \n",
       " 184207  PRV56689                      10            PHY0000   \n",
       " 184208   PRV0000                     300            PHY0000   \n",
       " 184209   PRV0000                    1300            PHY0000   \n",
       " \n",
       "        OperatingPhysician OtherPhysician ClmAdmitDiagnosisCode  \\\n",
       " 0                       0       PHY12345                     0   \n",
       " 1                       0      PHY335146                     0   \n",
       " 2                       0              0                     0   \n",
       " 3                       0              0                     0   \n",
       " 4                       0       PHY12345                     0   \n",
       " ...                   ...            ...                   ...   \n",
       " 184205                  0      PHY396637                     0   \n",
       " 184206                  0              0                     0   \n",
       " 184207           PHY11111              0                     0   \n",
       " 184208                  0              0                  V571   \n",
       " 184209                  0              0                 V1234   \n",
       " \n",
       "         DeductibleAmtPaid  DiagnosisGroupCode  days_admitted  Claim_duration  \\\n",
       " 0                     0.0                   0            0.0             0.0   \n",
       " 1                     0.0                   0            0.0             0.0   \n",
       " 2                     0.0                   0            0.0             0.0   \n",
       " 3                     0.0                   0            0.0             0.0   \n",
       " 4                     0.0                   0            0.0             0.0   \n",
       " ...                   ...                 ...            ...             ...   \n",
       " 184205                0.0                   0            0.0             0.0   \n",
       " 184206                0.0                   0            0.0             0.0   \n",
       " 184207                0.0                   0            0.0             0.0   \n",
       " 184208                0.0                   0            0.0             0.0   \n",
       " 184209                0.0                   0            0.0             0.0   \n",
       " \n",
       "         ...  Patient_Age  is_dead  Patient_Risk_Score  \\\n",
       " 0       ...         79.0        0                   4   \n",
       " 1       ...         84.0        0                   7   \n",
       " 2       ...         71.0        0                   7   \n",
       " 3       ...         88.0        0                   4   \n",
       " 4       ...        101.0        0                   5   \n",
       " ...     ...          ...      ...                 ...   \n",
       " 184205  ...         75.0        0                   3   \n",
       " 184206  ...         32.0        0                   6   \n",
       " 184207  ...         71.0        0                   3   \n",
       " 184208  ...         49.0        0                   3   \n",
       " 184209  ...         61.0        0                   4   \n",
       " \n",
       "         Total_ip_op_AnnualReimbursementAmt  Total_ip_op_AnnualDeductibleAmt  \\\n",
       " 0                                      270                              110   \n",
       " 1                                     4360                              860   \n",
       " 2                                    28490                             2776   \n",
       " 3                                     1170                              380   \n",
       " 4                                      210                              460   \n",
       " ...                                    ...                              ...   \n",
       " 184205                                 990                              360   \n",
       " 184206                                1140                               90   \n",
       " 184207                                4050                             1380   \n",
       " 184208                                 670                             1290   \n",
       " 184209                                2720                             1210   \n",
       " \n",
       "         Total_physicans_attended  Total_ClmDiagnosisCode  \\\n",
       " 0                              2                      10   \n",
       " 1                              2                      10   \n",
       " 2                              1                      10   \n",
       " 3                              1                      10   \n",
       " 4                              2                      10   \n",
       " ...                          ...                     ...   \n",
       " 184205                         2                      10   \n",
       " 184206                         1                      10   \n",
       " 184207                         2                      10   \n",
       " 184208                         1                      10   \n",
       " 184209                         1                      10   \n",
       " \n",
       "         Total_ClmProcedureCode  Real  Pred  \n",
       " 0                            0     0     0  \n",
       " 1                            0     1     1  \n",
       " 2                            0     1     1  \n",
       " 3                            0     0     0  \n",
       " 4                            0     0     0  \n",
       " ...                        ...   ...   ...  \n",
       " 184205                       0     1     1  \n",
       " 184206                       0     0     0  \n",
       " 184207                       0     1     1  \n",
       " 184208                       0     0     0  \n",
       " 184209                       0     1     0  \n",
       " \n",
       " [184210 rows x 44 columns],\n",
       " 'XG Boost':         Provider  InscClaimAmtReimbursed AttendingPhysician  \\\n",
       " 0        PRV0000                      60            PHY0000   \n",
       " 1       PRV54742                       0            PHY0000   \n",
       " 2       PRV52059                      10            PHY0000   \n",
       " 3        PRV0000                      40            PHY0000   \n",
       " 4        PRV0000                      30            PHY0000   \n",
       " ...          ...                     ...                ...   \n",
       " 184205  PRV51347                     400            PHY0000   \n",
       " 184206   PRV0000                     800            PHY0000   \n",
       " 184207  PRV56689                      10            PHY0000   \n",
       " 184208   PRV0000                     300            PHY0000   \n",
       " 184209   PRV0000                    1300            PHY0000   \n",
       " \n",
       "        OperatingPhysician OtherPhysician ClmAdmitDiagnosisCode  \\\n",
       " 0                       0       PHY12345                     0   \n",
       " 1                       0      PHY335146                     0   \n",
       " 2                       0              0                     0   \n",
       " 3                       0              0                     0   \n",
       " 4                       0       PHY12345                     0   \n",
       " ...                   ...            ...                   ...   \n",
       " 184205                  0      PHY396637                     0   \n",
       " 184206                  0              0                     0   \n",
       " 184207           PHY11111              0                     0   \n",
       " 184208                  0              0                  V571   \n",
       " 184209                  0              0                 V1234   \n",
       " \n",
       "         DeductibleAmtPaid  DiagnosisGroupCode  days_admitted  Claim_duration  \\\n",
       " 0                     0.0                   0            0.0             0.0   \n",
       " 1                     0.0                   0            0.0             0.0   \n",
       " 2                     0.0                   0            0.0             0.0   \n",
       " 3                     0.0                   0            0.0             0.0   \n",
       " 4                     0.0                   0            0.0             0.0   \n",
       " ...                   ...                 ...            ...             ...   \n",
       " 184205                0.0                   0            0.0             0.0   \n",
       " 184206                0.0                   0            0.0             0.0   \n",
       " 184207                0.0                   0            0.0             0.0   \n",
       " 184208                0.0                   0            0.0             0.0   \n",
       " 184209                0.0                   0            0.0             0.0   \n",
       " \n",
       "         ...  Patient_Age  is_dead  Patient_Risk_Score  \\\n",
       " 0       ...         79.0        0                   4   \n",
       " 1       ...         84.0        0                   7   \n",
       " 2       ...         71.0        0                   7   \n",
       " 3       ...         88.0        0                   4   \n",
       " 4       ...        101.0        0                   5   \n",
       " ...     ...          ...      ...                 ...   \n",
       " 184205  ...         75.0        0                   3   \n",
       " 184206  ...         32.0        0                   6   \n",
       " 184207  ...         71.0        0                   3   \n",
       " 184208  ...         49.0        0                   3   \n",
       " 184209  ...         61.0        0                   4   \n",
       " \n",
       "         Total_ip_op_AnnualReimbursementAmt  Total_ip_op_AnnualDeductibleAmt  \\\n",
       " 0                                      270                              110   \n",
       " 1                                     4360                              860   \n",
       " 2                                    28490                             2776   \n",
       " 3                                     1170                              380   \n",
       " 4                                      210                              460   \n",
       " ...                                    ...                              ...   \n",
       " 184205                                 990                              360   \n",
       " 184206                                1140                               90   \n",
       " 184207                                4050                             1380   \n",
       " 184208                                 670                             1290   \n",
       " 184209                                2720                             1210   \n",
       " \n",
       "         Total_physicans_attended  Total_ClmDiagnosisCode  \\\n",
       " 0                              2                      10   \n",
       " 1                              2                      10   \n",
       " 2                              1                      10   \n",
       " 3                              1                      10   \n",
       " 4                              2                      10   \n",
       " ...                          ...                     ...   \n",
       " 184205                         2                      10   \n",
       " 184206                         1                      10   \n",
       " 184207                         2                      10   \n",
       " 184208                         1                      10   \n",
       " 184209                         1                      10   \n",
       " \n",
       "         Total_ClmProcedureCode  Real  Pred  \n",
       " 0                            0     0     0  \n",
       " 1                            0     1     1  \n",
       " 2                            0     1     1  \n",
       " 3                            0     0     0  \n",
       " 4                            0     0     0  \n",
       " ...                        ...   ...   ...  \n",
       " 184205                       0     1     1  \n",
       " 184206                       0     0     0  \n",
       " 184207                       0     1     1  \n",
       " 184208                       0     0     0  \n",
       " 184209                       0     1     0  \n",
       " \n",
       " [184210 rows x 44 columns],\n",
       " 'Extra Tree':         Provider  InscClaimAmtReimbursed AttendingPhysician  \\\n",
       " 0        PRV0000                      60            PHY0000   \n",
       " 1       PRV54742                       0            PHY0000   \n",
       " 2       PRV52059                      10            PHY0000   \n",
       " 3        PRV0000                      40            PHY0000   \n",
       " 4        PRV0000                      30            PHY0000   \n",
       " ...          ...                     ...                ...   \n",
       " 184205  PRV51347                     400            PHY0000   \n",
       " 184206   PRV0000                     800            PHY0000   \n",
       " 184207  PRV56689                      10            PHY0000   \n",
       " 184208   PRV0000                     300            PHY0000   \n",
       " 184209   PRV0000                    1300            PHY0000   \n",
       " \n",
       "        OperatingPhysician OtherPhysician ClmAdmitDiagnosisCode  \\\n",
       " 0                       0       PHY12345                     0   \n",
       " 1                       0      PHY335146                     0   \n",
       " 2                       0              0                     0   \n",
       " 3                       0              0                     0   \n",
       " 4                       0       PHY12345                     0   \n",
       " ...                   ...            ...                   ...   \n",
       " 184205                  0      PHY396637                     0   \n",
       " 184206                  0              0                     0   \n",
       " 184207           PHY11111              0                     0   \n",
       " 184208                  0              0                  V571   \n",
       " 184209                  0              0                 V1234   \n",
       " \n",
       "         DeductibleAmtPaid  DiagnosisGroupCode  days_admitted  Claim_duration  \\\n",
       " 0                     0.0                   0            0.0             0.0   \n",
       " 1                     0.0                   0            0.0             0.0   \n",
       " 2                     0.0                   0            0.0             0.0   \n",
       " 3                     0.0                   0            0.0             0.0   \n",
       " 4                     0.0                   0            0.0             0.0   \n",
       " ...                   ...                 ...            ...             ...   \n",
       " 184205                0.0                   0            0.0             0.0   \n",
       " 184206                0.0                   0            0.0             0.0   \n",
       " 184207                0.0                   0            0.0             0.0   \n",
       " 184208                0.0                   0            0.0             0.0   \n",
       " 184209                0.0                   0            0.0             0.0   \n",
       " \n",
       "         ...  Patient_Age  is_dead  Patient_Risk_Score  \\\n",
       " 0       ...         79.0        0                   4   \n",
       " 1       ...         84.0        0                   7   \n",
       " 2       ...         71.0        0                   7   \n",
       " 3       ...         88.0        0                   4   \n",
       " 4       ...        101.0        0                   5   \n",
       " ...     ...          ...      ...                 ...   \n",
       " 184205  ...         75.0        0                   3   \n",
       " 184206  ...         32.0        0                   6   \n",
       " 184207  ...         71.0        0                   3   \n",
       " 184208  ...         49.0        0                   3   \n",
       " 184209  ...         61.0        0                   4   \n",
       " \n",
       "         Total_ip_op_AnnualReimbursementAmt  Total_ip_op_AnnualDeductibleAmt  \\\n",
       " 0                                      270                              110   \n",
       " 1                                     4360                              860   \n",
       " 2                                    28490                             2776   \n",
       " 3                                     1170                              380   \n",
       " 4                                      210                              460   \n",
       " ...                                    ...                              ...   \n",
       " 184205                                 990                              360   \n",
       " 184206                                1140                               90   \n",
       " 184207                                4050                             1380   \n",
       " 184208                                 670                             1290   \n",
       " 184209                                2720                             1210   \n",
       " \n",
       "         Total_physicans_attended  Total_ClmDiagnosisCode  \\\n",
       " 0                              2                      10   \n",
       " 1                              2                      10   \n",
       " 2                              1                      10   \n",
       " 3                              1                      10   \n",
       " 4                              2                      10   \n",
       " ...                          ...                     ...   \n",
       " 184205                         2                      10   \n",
       " 184206                         1                      10   \n",
       " 184207                         2                      10   \n",
       " 184208                         1                      10   \n",
       " 184209                         1                      10   \n",
       " \n",
       "         Total_ClmProcedureCode  Real  Pred  \n",
       " 0                            0     0     0  \n",
       " 1                            0     1     1  \n",
       " 2                            0     1     1  \n",
       " 3                            0     0     0  \n",
       " 4                            0     0     0  \n",
       " ...                        ...   ...   ...  \n",
       " 184205                       0     1     1  \n",
       " 184206                       0     0     0  \n",
       " 184207                       0     1     1  \n",
       " 184208                       0     0     0  \n",
       " 184209                       0     1     0  \n",
       " \n",
       " [184210 rows x 44 columns],\n",
       " 'Ada Boost':         Provider  InscClaimAmtReimbursed AttendingPhysician  \\\n",
       " 0        PRV0000                      60            PHY0000   \n",
       " 1       PRV54742                       0            PHY0000   \n",
       " 2       PRV52059                      10            PHY0000   \n",
       " 3        PRV0000                      40            PHY0000   \n",
       " 4        PRV0000                      30            PHY0000   \n",
       " ...          ...                     ...                ...   \n",
       " 184205  PRV51347                     400            PHY0000   \n",
       " 184206   PRV0000                     800            PHY0000   \n",
       " 184207  PRV56689                      10            PHY0000   \n",
       " 184208   PRV0000                     300            PHY0000   \n",
       " 184209   PRV0000                    1300            PHY0000   \n",
       " \n",
       "        OperatingPhysician OtherPhysician ClmAdmitDiagnosisCode  \\\n",
       " 0                       0       PHY12345                     0   \n",
       " 1                       0      PHY335146                     0   \n",
       " 2                       0              0                     0   \n",
       " 3                       0              0                     0   \n",
       " 4                       0       PHY12345                     0   \n",
       " ...                   ...            ...                   ...   \n",
       " 184205                  0      PHY396637                     0   \n",
       " 184206                  0              0                     0   \n",
       " 184207           PHY11111              0                     0   \n",
       " 184208                  0              0                  V571   \n",
       " 184209                  0              0                 V1234   \n",
       " \n",
       "         DeductibleAmtPaid  DiagnosisGroupCode  days_admitted  Claim_duration  \\\n",
       " 0                     0.0                   0            0.0             0.0   \n",
       " 1                     0.0                   0            0.0             0.0   \n",
       " 2                     0.0                   0            0.0             0.0   \n",
       " 3                     0.0                   0            0.0             0.0   \n",
       " 4                     0.0                   0            0.0             0.0   \n",
       " ...                   ...                 ...            ...             ...   \n",
       " 184205                0.0                   0            0.0             0.0   \n",
       " 184206                0.0                   0            0.0             0.0   \n",
       " 184207                0.0                   0            0.0             0.0   \n",
       " 184208                0.0                   0            0.0             0.0   \n",
       " 184209                0.0                   0            0.0             0.0   \n",
       " \n",
       "         ...  Patient_Age  is_dead  Patient_Risk_Score  \\\n",
       " 0       ...         79.0        0                   4   \n",
       " 1       ...         84.0        0                   7   \n",
       " 2       ...         71.0        0                   7   \n",
       " 3       ...         88.0        0                   4   \n",
       " 4       ...        101.0        0                   5   \n",
       " ...     ...          ...      ...                 ...   \n",
       " 184205  ...         75.0        0                   3   \n",
       " 184206  ...         32.0        0                   6   \n",
       " 184207  ...         71.0        0                   3   \n",
       " 184208  ...         49.0        0                   3   \n",
       " 184209  ...         61.0        0                   4   \n",
       " \n",
       "         Total_ip_op_AnnualReimbursementAmt  Total_ip_op_AnnualDeductibleAmt  \\\n",
       " 0                                      270                              110   \n",
       " 1                                     4360                              860   \n",
       " 2                                    28490                             2776   \n",
       " 3                                     1170                              380   \n",
       " 4                                      210                              460   \n",
       " ...                                    ...                              ...   \n",
       " 184205                                 990                              360   \n",
       " 184206                                1140                               90   \n",
       " 184207                                4050                             1380   \n",
       " 184208                                 670                             1290   \n",
       " 184209                                2720                             1210   \n",
       " \n",
       "         Total_physicans_attended  Total_ClmDiagnosisCode  \\\n",
       " 0                              2                      10   \n",
       " 1                              2                      10   \n",
       " 2                              1                      10   \n",
       " 3                              1                      10   \n",
       " 4                              2                      10   \n",
       " ...                          ...                     ...   \n",
       " 184205                         2                      10   \n",
       " 184206                         1                      10   \n",
       " 184207                         2                      10   \n",
       " 184208                         1                      10   \n",
       " 184209                         1                      10   \n",
       " \n",
       "         Total_ClmProcedureCode  Real  Pred  \n",
       " 0                            0     0     0  \n",
       " 1                            0     1     1  \n",
       " 2                            0     1     1  \n",
       " 3                            0     0     0  \n",
       " 4                            0     0     0  \n",
       " ...                        ...   ...   ...  \n",
       " 184205                       0     1     1  \n",
       " 184206                       0     0     0  \n",
       " 184207                       0     1     1  \n",
       " 184208                       0     0     0  \n",
       " 184209                       0     1     0  \n",
       " \n",
       " [184210 rows x 44 columns]}"
      ]
     },
     "execution_count": 107,
     "metadata": {},
     "output_type": "execute_result"
    }
   ],
   "source": [
    "all_toshow_df"
   ]
  }
 ],
 "metadata": {
  "colab": {
   "name": "lubna_good_work_hyperparamter_tuning_models.ipynb",
   "provenance": []
  },
  "kernelspec": {
   "display_name": "Python 3 (ipykernel)",
   "language": "python",
   "name": "python3"
  },
  "language_info": {
   "codemirror_mode": {
    "name": "ipython",
    "version": 3
   },
   "file_extension": ".py",
   "mimetype": "text/x-python",
   "name": "python",
   "nbconvert_exporter": "python",
   "pygments_lexer": "ipython3",
   "version": "3.9.12"
  }
 },
 "nbformat": 4,
 "nbformat_minor": 5
}
