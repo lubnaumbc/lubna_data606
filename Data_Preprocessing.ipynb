{
 "cells": [
  {
   "cell_type": "code",
   "execution_count": 1,
   "id": "1c109f13",
   "metadata": {
    "id": "1c109f13"
   },
   "outputs": [],
   "source": [
    "import numpy as np\n",
    "import pandas as pd \n",
    "import matplotlib.pyplot as plt\n",
    "import seaborn as sns\n",
    "from sklearn import preprocessing\n",
    "\n",
    "import warnings\n",
    "warnings.simplefilter(\"ignore\")"
   ]
  },
  {
   "cell_type": "markdown",
   "id": "c53ed00a",
   "metadata": {
    "id": "c53ed00a"
   },
   "source": [
    "## Loading the datasets"
   ]
  },
  {
   "cell_type": "code",
   "execution_count": 2,
   "id": "35f6ec74",
   "metadata": {
    "id": "35f6ec74"
   },
   "outputs": [],
   "source": [
    "beneficiary_data=pd.read_csv('./datasets/Train_Beneficiarydata-1542865627584.csv')\n",
    "inpatient_data=pd.read_csv('./datasets/Train_Inpatientdata-1542865627584.csv')\n",
    "outpatient_data=pd.read_csv('./datasets/Train_Outpatientdata-1542865627584.csv')\n",
    "label_data=pd.read_csv('./datasets/Train-1542865627584.csv')"
   ]
  },
  {
   "cell_type": "markdown",
   "id": "61ddd9b6",
   "metadata": {
    "id": "61ddd9b6"
   },
   "source": [
    "## Beneficiary Dataset"
   ]
  },
  {
   "cell_type": "code",
   "execution_count": 3,
   "id": "4e1f7a4f",
   "metadata": {
    "colab": {
     "base_uri": "https://localhost:8080/"
    },
    "id": "4e1f7a4f",
    "outputId": "ee4f3ca5-524a-4013-801c-c462ebbca185"
   },
   "outputs": [
    {
     "data": {
      "text/plain": [
       "(138556, 25)"
      ]
     },
     "execution_count": 3,
     "metadata": {},
     "output_type": "execute_result"
    }
   ],
   "source": [
    "beneficiary_data.shape"
   ]
  },
  {
   "cell_type": "code",
   "execution_count": 4,
   "id": "36299983",
   "metadata": {
    "colab": {
     "base_uri": "https://localhost:8080/"
    },
    "id": "36299983",
    "outputId": "098c51a5-93f6-4dee-818d-b7432a1ece25"
   },
   "outputs": [
    {
     "name": "stdout",
     "output_type": "stream",
     "text": [
      "<class 'pandas.core.frame.DataFrame'>\n",
      "RangeIndex: 138556 entries, 0 to 138555\n",
      "Data columns (total 25 columns):\n",
      " #   Column                           Non-Null Count   Dtype \n",
      "---  ------                           --------------   ----- \n",
      " 0   BeneID                           138556 non-null  object\n",
      " 1   DOB                              138556 non-null  object\n",
      " 2   DOD                              1421 non-null    object\n",
      " 3   Gender                           138556 non-null  int64 \n",
      " 4   Race                             138556 non-null  int64 \n",
      " 5   RenalDiseaseIndicator            138556 non-null  object\n",
      " 6   State                            138556 non-null  int64 \n",
      " 7   County                           138556 non-null  int64 \n",
      " 8   NoOfMonths_PartACov              138556 non-null  int64 \n",
      " 9   NoOfMonths_PartBCov              138556 non-null  int64 \n",
      " 10  ChronicCond_Alzheimer            138556 non-null  int64 \n",
      " 11  ChronicCond_Heartfailure         138556 non-null  int64 \n",
      " 12  ChronicCond_KidneyDisease        138556 non-null  int64 \n",
      " 13  ChronicCond_Cancer               138556 non-null  int64 \n",
      " 14  ChronicCond_ObstrPulmonary       138556 non-null  int64 \n",
      " 15  ChronicCond_Depression           138556 non-null  int64 \n",
      " 16  ChronicCond_Diabetes             138556 non-null  int64 \n",
      " 17  ChronicCond_IschemicHeart        138556 non-null  int64 \n",
      " 18  ChronicCond_Osteoporasis         138556 non-null  int64 \n",
      " 19  ChronicCond_rheumatoidarthritis  138556 non-null  int64 \n",
      " 20  ChronicCond_stroke               138556 non-null  int64 \n",
      " 21  IPAnnualReimbursementAmt         138556 non-null  int64 \n",
      " 22  IPAnnualDeductibleAmt            138556 non-null  int64 \n",
      " 23  OPAnnualReimbursementAmt         138556 non-null  int64 \n",
      " 24  OPAnnualDeductibleAmt            138556 non-null  int64 \n",
      "dtypes: int64(21), object(4)\n",
      "memory usage: 26.4+ MB\n"
     ]
    }
   ],
   "source": [
    "beneficiary_data.info()"
   ]
  },
  {
   "cell_type": "code",
   "execution_count": 5,
   "id": "536a8866",
   "metadata": {
    "colab": {
     "base_uri": "https://localhost:8080/"
    },
    "id": "536a8866",
    "outputId": "a8462df9-9649-46ba-b470-a47fe0695fa6"
   },
   "outputs": [
    {
     "data": {
      "text/plain": [
       "BeneID                                  0\n",
       "DOB                                     0\n",
       "DOD                                137135\n",
       "Gender                                  0\n",
       "Race                                    0\n",
       "RenalDiseaseIndicator                   0\n",
       "State                                   0\n",
       "County                                  0\n",
       "NoOfMonths_PartACov                     0\n",
       "NoOfMonths_PartBCov                     0\n",
       "ChronicCond_Alzheimer                   0\n",
       "ChronicCond_Heartfailure                0\n",
       "ChronicCond_KidneyDisease               0\n",
       "ChronicCond_Cancer                      0\n",
       "ChronicCond_ObstrPulmonary              0\n",
       "ChronicCond_Depression                  0\n",
       "ChronicCond_Diabetes                    0\n",
       "ChronicCond_IschemicHeart               0\n",
       "ChronicCond_Osteoporasis                0\n",
       "ChronicCond_rheumatoidarthritis         0\n",
       "ChronicCond_stroke                      0\n",
       "IPAnnualReimbursementAmt                0\n",
       "IPAnnualDeductibleAmt                   0\n",
       "OPAnnualReimbursementAmt                0\n",
       "OPAnnualDeductibleAmt                   0\n",
       "dtype: int64"
      ]
     },
     "execution_count": 5,
     "metadata": {},
     "output_type": "execute_result"
    }
   ],
   "source": [
    "beneficiary_data.isnull().sum()"
   ]
  },
  {
   "cell_type": "code",
   "execution_count": 6,
   "id": "0cfd3930",
   "metadata": {
    "colab": {
     "base_uri": "https://localhost:8080/"
    },
    "id": "0cfd3930",
    "outputId": "812fb2b9-3dd5-46b4-cbea-16f0bb8bfe88"
   },
   "outputs": [
    {
     "name": "stdout",
     "output_type": "stream",
     "text": [
      "Gender = [1 2]\n",
      "Race = [1 2 3 5]\n",
      "RenalDiseaseIndicator = ['0' 'Y']\n",
      "State = [39 52 24 23 45 15 44 41  1 14  7 13 34 31  5 49 46  6 38 10 26  3 20 33\n",
      " 18 27 51 29 42 36 11 12 30 19  4 25 17 16 32  2 21 50 22 54 28 43 35 37\n",
      " 47  8  9 53]\n",
      "County = [230 280 590 270 680 810 610 140  30 360 982  10 780 400 120  50 470  20\n",
      " 892 200 170 500 710 760  90 130 141 150 700 390 620 260 930 734 250 510\n",
      "  60 563 570  40 340 100 290 660 350 770 180 460 580 430 880 690 310 550\n",
      " 190 490 600 220 790 990 370 420   0 980 480 450 960 160 800 410 520 380\n",
      " 991 110 540 910 240 440  70 860 640 870 560 650 830 330 820  25 451 320\n",
      " 530 831 950  80 921 940 630 720 989 331 840 758 421 722 730 561 750 791\n",
      " 947 551 801 953 411 681 300 970 757 241 210 988 890 756 221 843 581 702\n",
      " 999  11 711 670 328 943 981 591 754 986 431 194 885 740 900 871 641 653\n",
      " 911 879 992 622 291 812 562 976 920 311 288 752 811 850 191 461 821 223\n",
      " 792 984 611 882 794 891 962 983 772 842 341 841 211 511 971 881 564 541\n",
      " 948 913 941 391  55 888 631 654 961  88 946 861 945 949 977 471 987 771\n",
      " 552 972 703 954 671 902 845 661 903 651 782 312 343  34 822 701 994 795\n",
      " 793 974 251 691 912 932 963 883 381 462 222 212 582 213 743 951 412 761\n",
      " 802 281 292 973 542 901 271 993 884 834 985 342 835 978 783 942 838 887\n",
      " 979 161 362 952 621 874 797 867 301 392 844 996 878 111 113 785 862 712\n",
      " 131 876 522 224 975 672 601 803 731 873 531 662 905 751 851 612 753 652\n",
      " 886 875 441 321 592 755 583 832  14 361 904 804 741 931 632 784 893 955\n",
      " 117 742 796   1  84 944 744 521]\n",
      "NoOfMonths_PartACov = [12  0  3  7 10 11  8  4  1  6  2  9  5]\n",
      "NoOfMonths_PartBCov = [12  0  1  9 11  3 10  8  2  6  4  5  7]\n",
      "ChronicCond_Alzheimer = [1 2]\n",
      "ChronicCond_Heartfailure = [2 1]\n",
      "ChronicCond_KidneyDisease = [1 2]\n",
      "ChronicCond_Cancer = [2 1]\n",
      "ChronicCond_ObstrPulmonary = [2 1]\n",
      "ChronicCond_Depression = [1 2]\n",
      "ChronicCond_Diabetes = [1 2]\n",
      "ChronicCond_IschemicHeart = [1 2]\n",
      "ChronicCond_Osteoporasis = [2 1]\n",
      "ChronicCond_rheumatoidarthritis = [1 2]\n",
      "ChronicCond_stroke = [1 2]\n"
     ]
    }
   ],
   "source": [
    "# cheking unique values in categorigal featues \n",
    "beneficiary_data_col=beneficiary_data.columns\n",
    "beneficiary_data_col=list(beneficiary_data_col)\n",
    "beneficiary_data_col=beneficiary_data_col[3:-4] # removing DOB,DOD and other continues feateus.\n",
    "for i in beneficiary_data_col:\n",
    "    print(i,\"=\",beneficiary_data[i].unique())"
   ]
  },
  {
   "cell_type": "markdown",
   "id": "b472848b",
   "metadata": {
    "id": "b472848b"
   },
   "source": [
    "<li>Only DOD column has null values\n",
    "<li>Gender has values 1 and 2,which can be changed to 1 and 0 for easy interpretation\n",
    "<li>In the RenalDiseaseIndicator column Y has to be replaced with 1\n",
    "<li>If the chronic condition is not found it is given as 2,so replacing it with 0"
   ]
  },
  {
   "cell_type": "code",
   "execution_count": 7,
   "id": "84b81874",
   "metadata": {
    "id": "84b81874"
   },
   "outputs": [],
   "source": [
    "# Convert Date of Birth and Date of Death from String to Datetime format\n",
    "beneficiary_data['DOB'] = pd.to_datetime(beneficiary_data['DOB'] , format = '%Y-%m-%d')\n",
    "beneficiary_data['DOD'] = pd.to_datetime(beneficiary_data['DOD'],format = '%Y-%m-%d')"
   ]
  },
  {
   "cell_type": "code",
   "execution_count": 8,
   "id": "0181e168",
   "metadata": {
    "colab": {
     "base_uri": "https://localhost:8080/"
    },
    "id": "0181e168",
    "outputId": "66858185-fa7a-4296-c675-6274ae966503"
   },
   "outputs": [
    {
     "data": {
      "text/plain": [
       "Timestamp('2009-12-01 00:00:00')"
      ]
     },
     "execution_count": 8,
     "metadata": {},
     "output_type": "execute_result"
    }
   ],
   "source": [
    "# Check last date DOD\n",
    "beneficiary_data['DOD'].max()"
   ]
  },
  {
   "cell_type": "code",
   "execution_count": 9,
   "id": "aaeffd5f",
   "metadata": {
    "id": "aaeffd5f"
   },
   "outputs": [],
   "source": [
    "# https://stackoverflow.com/questions/46508895/calculating-age-from-date-time-format-in-python-pandas?noredirect=1&lq=1\n",
    "beneficiary_data['Patient_Age'] = round(((beneficiary_data['DOD'] - beneficiary_data['DOB']).dt.days)/365)\n",
    "beneficiary_data.Patient_Age.fillna(round(((pd.to_datetime('2009-12-01',format ='%Y-%m-%d')-beneficiary_data['DOB']).dt.days)/365),inplace=True)"
   ]
  },
  {
   "cell_type": "code",
   "execution_count": 10,
   "id": "9cd49269",
   "metadata": {
    "colab": {
     "base_uri": "https://localhost:8080/"
    },
    "id": "9cd49269",
    "outputId": "5bc3aeb0-734d-44c2-b151-4fb591328fc5"
   },
   "outputs": [
    {
     "data": {
      "text/plain": [
       "BeneID                                  0\n",
       "DOB                                     0\n",
       "DOD                                137135\n",
       "Gender                                  0\n",
       "Race                                    0\n",
       "RenalDiseaseIndicator                   0\n",
       "State                                   0\n",
       "County                                  0\n",
       "NoOfMonths_PartACov                     0\n",
       "NoOfMonths_PartBCov                     0\n",
       "ChronicCond_Alzheimer                   0\n",
       "ChronicCond_Heartfailure                0\n",
       "ChronicCond_KidneyDisease               0\n",
       "ChronicCond_Cancer                      0\n",
       "ChronicCond_ObstrPulmonary              0\n",
       "ChronicCond_Depression                  0\n",
       "ChronicCond_Diabetes                    0\n",
       "ChronicCond_IschemicHeart               0\n",
       "ChronicCond_Osteoporasis                0\n",
       "ChronicCond_rheumatoidarthritis         0\n",
       "ChronicCond_stroke                      0\n",
       "IPAnnualReimbursementAmt                0\n",
       "IPAnnualDeductibleAmt                   0\n",
       "OPAnnualReimbursementAmt                0\n",
       "OPAnnualDeductibleAmt                   0\n",
       "Patient_Age                             0\n",
       "dtype: int64"
      ]
     },
     "execution_count": 10,
     "metadata": {},
     "output_type": "execute_result"
    }
   ],
   "source": [
    "beneficiary_data.isnull().sum()"
   ]
  },
  {
   "cell_type": "code",
   "execution_count": 11,
   "id": "2a1c9c67",
   "metadata": {
    "id": "2a1c9c67"
   },
   "outputs": [],
   "source": [
    "#DOD value is not recorded if patient is alive \n",
    "# Set value=1 if the patient is dead i.e DOD value is not null\n",
    "beneficiary_data['is_dead'] = 0\n",
    "beneficiary_data.loc[beneficiary_data.DOD.notna(), 'is_dead'] = 1"
   ]
  },
  {
   "cell_type": "code",
   "execution_count": 12,
   "id": "a4fdbe24",
   "metadata": {
    "colab": {
     "base_uri": "https://localhost:8080/"
    },
    "id": "a4fdbe24",
    "outputId": "1454d3f4-5939-4adf-bf83-f45fa5651786"
   },
   "outputs": [
    {
     "data": {
      "text/plain": [
       "array([1, 0], dtype=int64)"
      ]
     },
     "execution_count": 12,
     "metadata": {},
     "output_type": "execute_result"
    }
   ],
   "source": [
    "# replacing 2 with 0 in gender column\n",
    "beneficiary_data['Gender']=beneficiary_data['Gender'].replace(2,0)\n",
    "beneficiary_data['Gender'].unique()"
   ]
  },
  {
   "cell_type": "code",
   "execution_count": 13,
   "id": "6624af8f",
   "metadata": {
    "colab": {
     "base_uri": "https://localhost:8080/"
    },
    "id": "6624af8f",
    "outputId": "c4791744-271b-4033-987c-113775e69232"
   },
   "outputs": [
    {
     "data": {
      "text/plain": [
       "array(['0', 1], dtype=object)"
      ]
     },
     "execution_count": 13,
     "metadata": {},
     "output_type": "execute_result"
    }
   ],
   "source": [
    "# replacing Y with 1 in RenalDiseaseIndicator\n",
    "beneficiary_data['RenalDiseaseIndicator']=beneficiary_data['RenalDiseaseIndicator'].replace('Y',1)\n",
    "beneficiary_data['RenalDiseaseIndicator'].unique()"
   ]
  },
  {
   "cell_type": "code",
   "execution_count": 14,
   "id": "c710fc59",
   "metadata": {
    "id": "c710fc59"
   },
   "outputs": [],
   "source": [
    "# Replacing 2 with 0 for chronic conditions, Zero indicates chronic condition is No\n",
    "\n",
    "beneficiary_data = beneficiary_data.replace({'ChronicCond_Alzheimer': 2, 'ChronicCond_Heartfailure': 2, 'ChronicCond_KidneyDisease': 2,\n",
    "                           'ChronicCond_Cancer': 2, 'ChronicCond_ObstrPulmonary': 2, 'ChronicCond_Depression': 2, \n",
    "                           'ChronicCond_Diabetes': 2, 'ChronicCond_IschemicHeart': 2, 'ChronicCond_Osteoporasis': 2, \n",
    "                           'ChronicCond_rheumatoidarthritis': 2, 'ChronicCond_stroke': 2 }, 0)"
   ]
  },
  {
   "cell_type": "code",
   "execution_count": 15,
   "id": "d050e94d",
   "metadata": {
    "colab": {
     "base_uri": "https://localhost:8080/"
    },
    "id": "d050e94d",
    "outputId": "f6fdfee6-efd7-441c-8dd0-85c4575405e5"
   },
   "outputs": [
    {
     "data": {
      "text/plain": [
       "array([1, 0], dtype=int64)"
      ]
     },
     "execution_count": 15,
     "metadata": {},
     "output_type": "execute_result"
    }
   ],
   "source": [
    "beneficiary_data['ChronicCond_Alzheimer'].unique()"
   ]
  },
  {
   "cell_type": "code",
   "execution_count": 16,
   "id": "155ab26b",
   "metadata": {
    "id": "155ab26b"
   },
   "outputs": [],
   "source": [
    "# convert all these columns datatypes to numeric\n",
    "beneficiary_data[[\"ChronicCond_Alzheimer\", \"ChronicCond_Heartfailure\", \"ChronicCond_KidneyDisease\", \"ChronicCond_Cancer\", \"ChronicCond_ObstrPulmonary\", \"ChronicCond_Depression\", \"ChronicCond_Diabetes\", \"ChronicCond_IschemicHeart\", \"ChronicCond_Osteoporasis\", \"ChronicCond_rheumatoidarthritis\", \"ChronicCond_stroke\", \"RenalDiseaseIndicator\"]] =beneficiary_data[[\"ChronicCond_Alzheimer\", \"ChronicCond_Heartfailure\", \"ChronicCond_KidneyDisease\", \"ChronicCond_Cancer\", \"ChronicCond_ObstrPulmonary\", \"ChronicCond_Depression\", \"ChronicCond_Diabetes\", \"ChronicCond_IschemicHeart\", \"ChronicCond_Osteoporasis\", \"ChronicCond_rheumatoidarthritis\", \"ChronicCond_stroke\", \"RenalDiseaseIndicator\"]].apply(pd.to_numeric)\n"
   ]
  },
  {
   "cell_type": "code",
   "execution_count": 17,
   "id": "16672656",
   "metadata": {
    "id": "16672656"
   },
   "outputs": [],
   "source": [
    "# calculate patient risk score by summing up all the chronic conditions.\n",
    "# The higher risk score indicates the health of the patient is not good\n",
    "\n",
    "beneficiary_data['Patient_Risk_Score'] = beneficiary_data['ChronicCond_Alzheimer'] + beneficiary_data['ChronicCond_Heartfailure'] + \\\n",
    "                                        beneficiary_data['ChronicCond_KidneyDisease'] + beneficiary_data['ChronicCond_Cancer'] +\\\n",
    "                                        beneficiary_data['ChronicCond_ObstrPulmonary'] + beneficiary_data['ChronicCond_Depression'] +\\\n",
    "                                    beneficiary_data['ChronicCond_Diabetes'] + beneficiary_data['ChronicCond_IschemicHeart'] +\\\n",
    "                                    beneficiary_data['ChronicCond_Osteoporasis'] + beneficiary_data['ChronicCond_rheumatoidarthritis'] +\\\n",
    "                                    beneficiary_data['ChronicCond_stroke'] + beneficiary_data['RenalDiseaseIndicator'] "
   ]
  },
  {
   "cell_type": "code",
   "execution_count": 18,
   "id": "a0f87eae",
   "metadata": {
    "colab": {
     "base_uri": "https://localhost:8080/"
    },
    "id": "a0f87eae",
    "outputId": "650596f8-b388-4466-ea93-9d500e9326f2"
   },
   "outputs": [
    {
     "name": "stdout",
     "output_type": "stream",
     "text": [
      "<class 'pandas.core.frame.DataFrame'>\n",
      "RangeIndex: 138556 entries, 0 to 138555\n",
      "Data columns (total 28 columns):\n",
      " #   Column                           Non-Null Count   Dtype         \n",
      "---  ------                           --------------   -----         \n",
      " 0   BeneID                           138556 non-null  object        \n",
      " 1   DOB                              138556 non-null  datetime64[ns]\n",
      " 2   DOD                              1421 non-null    datetime64[ns]\n",
      " 3   Gender                           138556 non-null  int64         \n",
      " 4   Race                             138556 non-null  int64         \n",
      " 5   RenalDiseaseIndicator            138556 non-null  int64         \n",
      " 6   State                            138556 non-null  int64         \n",
      " 7   County                           138556 non-null  int64         \n",
      " 8   NoOfMonths_PartACov              138556 non-null  int64         \n",
      " 9   NoOfMonths_PartBCov              138556 non-null  int64         \n",
      " 10  ChronicCond_Alzheimer            138556 non-null  int64         \n",
      " 11  ChronicCond_Heartfailure         138556 non-null  int64         \n",
      " 12  ChronicCond_KidneyDisease        138556 non-null  int64         \n",
      " 13  ChronicCond_Cancer               138556 non-null  int64         \n",
      " 14  ChronicCond_ObstrPulmonary       138556 non-null  int64         \n",
      " 15  ChronicCond_Depression           138556 non-null  int64         \n",
      " 16  ChronicCond_Diabetes             138556 non-null  int64         \n",
      " 17  ChronicCond_IschemicHeart        138556 non-null  int64         \n",
      " 18  ChronicCond_Osteoporasis         138556 non-null  int64         \n",
      " 19  ChronicCond_rheumatoidarthritis  138556 non-null  int64         \n",
      " 20  ChronicCond_stroke               138556 non-null  int64         \n",
      " 21  IPAnnualReimbursementAmt         138556 non-null  int64         \n",
      " 22  IPAnnualDeductibleAmt            138556 non-null  int64         \n",
      " 23  OPAnnualReimbursementAmt         138556 non-null  int64         \n",
      " 24  OPAnnualDeductibleAmt            138556 non-null  int64         \n",
      " 25  Patient_Age                      138556 non-null  float64       \n",
      " 26  is_dead                          138556 non-null  int64         \n",
      " 27  Patient_Risk_Score               138556 non-null  int64         \n",
      "dtypes: datetime64[ns](2), float64(1), int64(24), object(1)\n",
      "memory usage: 29.6+ MB\n"
     ]
    }
   ],
   "source": [
    "beneficiary_data.info()"
   ]
  },
  {
   "cell_type": "markdown",
   "id": "29908573",
   "metadata": {
    "id": "29908573"
   },
   "source": [
    "## Inpatient data"
   ]
  },
  {
   "cell_type": "code",
   "execution_count": 19,
   "id": "5f1d02b6",
   "metadata": {
    "colab": {
     "base_uri": "https://localhost:8080/"
    },
    "id": "5f1d02b6",
    "outputId": "e0128afd-24de-46bc-d92e-16731476a90a"
   },
   "outputs": [
    {
     "data": {
      "text/plain": [
       "(40474, 30)"
      ]
     },
     "execution_count": 19,
     "metadata": {},
     "output_type": "execute_result"
    }
   ],
   "source": [
    "inpatient_data.shape"
   ]
  },
  {
   "cell_type": "code",
   "execution_count": 20,
   "id": "218d8671",
   "metadata": {
    "colab": {
     "base_uri": "https://localhost:8080/"
    },
    "id": "218d8671",
    "outputId": "3ca98541-8ab3-412d-80d3-60e3c671589e"
   },
   "outputs": [
    {
     "name": "stdout",
     "output_type": "stream",
     "text": [
      "<class 'pandas.core.frame.DataFrame'>\n",
      "RangeIndex: 40474 entries, 0 to 40473\n",
      "Data columns (total 30 columns):\n",
      " #   Column                  Non-Null Count  Dtype  \n",
      "---  ------                  --------------  -----  \n",
      " 0   BeneID                  40474 non-null  object \n",
      " 1   ClaimID                 40474 non-null  object \n",
      " 2   ClaimStartDt            40474 non-null  object \n",
      " 3   ClaimEndDt              40474 non-null  object \n",
      " 4   Provider                40474 non-null  object \n",
      " 5   InscClaimAmtReimbursed  40474 non-null  int64  \n",
      " 6   AttendingPhysician      40362 non-null  object \n",
      " 7   OperatingPhysician      23830 non-null  object \n",
      " 8   OtherPhysician          4690 non-null   object \n",
      " 9   AdmissionDt             40474 non-null  object \n",
      " 10  ClmAdmitDiagnosisCode   40474 non-null  object \n",
      " 11  DeductibleAmtPaid       39575 non-null  float64\n",
      " 12  DischargeDt             40474 non-null  object \n",
      " 13  DiagnosisGroupCode      40474 non-null  object \n",
      " 14  ClmDiagnosisCode_1      40474 non-null  object \n",
      " 15  ClmDiagnosisCode_2      40248 non-null  object \n",
      " 16  ClmDiagnosisCode_3      39798 non-null  object \n",
      " 17  ClmDiagnosisCode_4      38940 non-null  object \n",
      " 18  ClmDiagnosisCode_5      37580 non-null  object \n",
      " 19  ClmDiagnosisCode_6      35636 non-null  object \n",
      " 20  ClmDiagnosisCode_7      33216 non-null  object \n",
      " 21  ClmDiagnosisCode_8      30532 non-null  object \n",
      " 22  ClmDiagnosisCode_9      26977 non-null  object \n",
      " 23  ClmDiagnosisCode_10     3927 non-null   object \n",
      " 24  ClmProcedureCode_1      23148 non-null  float64\n",
      " 25  ClmProcedureCode_2      5454 non-null   float64\n",
      " 26  ClmProcedureCode_3      965 non-null    float64\n",
      " 27  ClmProcedureCode_4      116 non-null    float64\n",
      " 28  ClmProcedureCode_5      9 non-null      float64\n",
      " 29  ClmProcedureCode_6      0 non-null      float64\n",
      "dtypes: float64(7), int64(1), object(22)\n",
      "memory usage: 9.3+ MB\n"
     ]
    }
   ],
   "source": [
    "inpatient_data.info()"
   ]
  },
  {
   "cell_type": "code",
   "execution_count": 21,
   "id": "fb6c1398",
   "metadata": {
    "colab": {
     "base_uri": "https://localhost:8080/"
    },
    "id": "fb6c1398",
    "outputId": "09a325e1-787f-493f-f8e9-25f1c8ed6615"
   },
   "outputs": [
    {
     "data": {
      "text/plain": [
       "BeneID                        0\n",
       "ClaimID                       0\n",
       "ClaimStartDt                  0\n",
       "ClaimEndDt                    0\n",
       "Provider                      0\n",
       "InscClaimAmtReimbursed        0\n",
       "AttendingPhysician          112\n",
       "OperatingPhysician        16644\n",
       "OtherPhysician            35784\n",
       "AdmissionDt                   0\n",
       "ClmAdmitDiagnosisCode         0\n",
       "DeductibleAmtPaid           899\n",
       "DischargeDt                   0\n",
       "DiagnosisGroupCode            0\n",
       "ClmDiagnosisCode_1            0\n",
       "ClmDiagnosisCode_2          226\n",
       "ClmDiagnosisCode_3          676\n",
       "ClmDiagnosisCode_4         1534\n",
       "ClmDiagnosisCode_5         2894\n",
       "ClmDiagnosisCode_6         4838\n",
       "ClmDiagnosisCode_7         7258\n",
       "ClmDiagnosisCode_8         9942\n",
       "ClmDiagnosisCode_9        13497\n",
       "ClmDiagnosisCode_10       36547\n",
       "ClmProcedureCode_1        17326\n",
       "ClmProcedureCode_2        35020\n",
       "ClmProcedureCode_3        39509\n",
       "ClmProcedureCode_4        40358\n",
       "ClmProcedureCode_5        40465\n",
       "ClmProcedureCode_6        40474\n",
       "dtype: int64"
      ]
     },
     "execution_count": 21,
     "metadata": {},
     "output_type": "execute_result"
    }
   ],
   "source": [
    "inpatient_data.isnull().sum()"
   ]
  },
  {
   "cell_type": "code",
   "execution_count": 22,
   "id": "2ca8f604",
   "metadata": {
    "id": "2ca8f604"
   },
   "outputs": [],
   "source": [
    "#inpatient_data.drop(columns = ['ClmProcedureCode_5', 'ClmProcedureCode_6'], axis=1, inplace= True) #No Values\n",
    "inpatient_data[['AttendingPhysician','OperatingPhysician','OtherPhysician']]=inpatient_data[['AttendingPhysician','OperatingPhysician','OtherPhysician']].fillna(0)\n",
    "for count in range(6):\n",
    "    inpatient_data[f'ClmProcedureCode_{count+1}'] = inpatient_data[f'ClmProcedureCode_{count+1}'].fillna(0)\n",
    "    \n",
    "for count in range(10):\n",
    "    inpatient_data[f'ClmDiagnosisCode_{count+1}'] = inpatient_data[f'ClmDiagnosisCode_{count+1}'].fillna('0')"
   ]
  },
  {
   "cell_type": "code",
   "execution_count": 23,
   "id": "3847e4fb",
   "metadata": {
    "id": "3847e4fb"
   },
   "outputs": [],
   "source": [
    "inpatient_data.DeductibleAmtPaid.fillna(0, inplace = True)"
   ]
  },
  {
   "cell_type": "code",
   "execution_count": 24,
   "id": "a1022a1e",
   "metadata": {
    "colab": {
     "base_uri": "https://localhost:8080/"
    },
    "id": "a1022a1e",
    "outputId": "fd0eaa09-5404-473c-b4e4-a46eb86241bd"
   },
   "outputs": [
    {
     "data": {
      "text/plain": [
       "BeneID                    0\n",
       "ClaimID                   0\n",
       "ClaimStartDt              0\n",
       "ClaimEndDt                0\n",
       "Provider                  0\n",
       "InscClaimAmtReimbursed    0\n",
       "AttendingPhysician        0\n",
       "OperatingPhysician        0\n",
       "OtherPhysician            0\n",
       "AdmissionDt               0\n",
       "ClmAdmitDiagnosisCode     0\n",
       "DeductibleAmtPaid         0\n",
       "DischargeDt               0\n",
       "DiagnosisGroupCode        0\n",
       "ClmDiagnosisCode_1        0\n",
       "ClmDiagnosisCode_2        0\n",
       "ClmDiagnosisCode_3        0\n",
       "ClmDiagnosisCode_4        0\n",
       "ClmDiagnosisCode_5        0\n",
       "ClmDiagnosisCode_6        0\n",
       "ClmDiagnosisCode_7        0\n",
       "ClmDiagnosisCode_8        0\n",
       "ClmDiagnosisCode_9        0\n",
       "ClmDiagnosisCode_10       0\n",
       "ClmProcedureCode_1        0\n",
       "ClmProcedureCode_2        0\n",
       "ClmProcedureCode_3        0\n",
       "ClmProcedureCode_4        0\n",
       "ClmProcedureCode_5        0\n",
       "ClmProcedureCode_6        0\n",
       "dtype: int64"
      ]
     },
     "execution_count": 24,
     "metadata": {},
     "output_type": "execute_result"
    }
   ],
   "source": [
    "inpatient_data.isnull().sum()"
   ]
  },
  {
   "cell_type": "code",
   "execution_count": 25,
   "id": "3a9a13bb",
   "metadata": {
    "id": "3a9a13bb"
   },
   "outputs": [],
   "source": [
    "# convert ClaimStartDt, ClaimEndDt from string to datetime format\n",
    "inpatient_data['ClaimStartDt'] = pd.to_datetime(inpatient_data['ClaimStartDt'] , format = '%Y-%m-%d')\n",
    "inpatient_data['ClaimEndDt'] = pd.to_datetime(inpatient_data['ClaimEndDt'],format = '%Y-%m-%d')\n",
    "# convert AdmissionDt, DischargeDt from string to datetime format\n",
    "inpatient_data['AdmissionDt'] = pd.to_datetime(inpatient_data['AdmissionDt'] , format = '%Y-%m-%d')\n",
    "inpatient_data['DischargeDt'] = pd.to_datetime(inpatient_data['DischargeDt'],format = '%Y-%m-%d')\n"
   ]
  },
  {
   "cell_type": "code",
   "execution_count": 26,
   "id": "ac405f22",
   "metadata": {
    "id": "ac405f22"
   },
   "outputs": [],
   "source": [
    "# Calculate days_admitted = DischargeDt - AdmissionDt\n",
    "inpatient_data['days_admitted'] = ((inpatient_data['DischargeDt'] - inpatient_data['AdmissionDt']).dt.days)\n",
    "# Calculate Claim_duration = ClaimEndDt - ClaimStartDt\n",
    "inpatient_data['Claim_duration'] = ((inpatient_data['ClaimEndDt'] - inpatient_data['ClaimStartDt']).dt.days)"
   ]
  },
  {
   "cell_type": "markdown",
   "id": "e0e4ec38",
   "metadata": {
    "id": "e0e4ec38"
   },
   "source": [
    "### If the claim_duration is greater than the days_admitted then its suspicious,creating 'Extra_days_claimed' column"
   ]
  },
  {
   "cell_type": "code",
   "execution_count": 27,
   "id": "d3e45b02",
   "metadata": {
    "id": "d3e45b02"
   },
   "outputs": [],
   "source": [
    "# Extra_days_claimed = Claim_duration - Claim_duration\n",
    "inpatient_data['Extra_days_claimed'] = np.where(inpatient_data['Claim_duration']>inpatient_data['days_admitted'], inpatient_data['Claim_duration'] - inpatient_data['days_admitted'], 0)"
   ]
  },
  {
   "cell_type": "code",
   "execution_count": 28,
   "id": "a7ebb278",
   "metadata": {
    "id": "a7ebb278"
   },
   "outputs": [],
   "source": [
    "inpatient_data['was_admitted']=1"
   ]
  },
  {
   "cell_type": "code",
   "execution_count": 29,
   "id": "97c14e15",
   "metadata": {
    "colab": {
     "base_uri": "https://localhost:8080/"
    },
    "id": "97c14e15",
    "outputId": "237ea68b-4a0d-46c8-f4d9-bc24ce29dab0"
   },
   "outputs": [
    {
     "data": {
      "text/html": [
       "<div>\n",
       "<style scoped>\n",
       "    .dataframe tbody tr th:only-of-type {\n",
       "        vertical-align: middle;\n",
       "    }\n",
       "\n",
       "    .dataframe tbody tr th {\n",
       "        vertical-align: top;\n",
       "    }\n",
       "\n",
       "    .dataframe thead th {\n",
       "        text-align: right;\n",
       "    }\n",
       "</style>\n",
       "<table border=\"1\" class=\"dataframe\">\n",
       "  <thead>\n",
       "    <tr style=\"text-align: right;\">\n",
       "      <th></th>\n",
       "      <th>BeneID</th>\n",
       "      <th>ClaimID</th>\n",
       "      <th>ClaimStartDt</th>\n",
       "      <th>ClaimEndDt</th>\n",
       "      <th>Provider</th>\n",
       "      <th>InscClaimAmtReimbursed</th>\n",
       "      <th>AttendingPhysician</th>\n",
       "      <th>OperatingPhysician</th>\n",
       "      <th>OtherPhysician</th>\n",
       "      <th>AdmissionDt</th>\n",
       "      <th>...</th>\n",
       "      <th>ClmProcedureCode_1</th>\n",
       "      <th>ClmProcedureCode_2</th>\n",
       "      <th>ClmProcedureCode_3</th>\n",
       "      <th>ClmProcedureCode_4</th>\n",
       "      <th>ClmProcedureCode_5</th>\n",
       "      <th>ClmProcedureCode_6</th>\n",
       "      <th>days_admitted</th>\n",
       "      <th>Claim_duration</th>\n",
       "      <th>Extra_days_claimed</th>\n",
       "      <th>was_admitted</th>\n",
       "    </tr>\n",
       "  </thead>\n",
       "  <tbody>\n",
       "    <tr>\n",
       "      <th>0</th>\n",
       "      <td>BENE11001</td>\n",
       "      <td>CLM46614</td>\n",
       "      <td>2009-04-12</td>\n",
       "      <td>2009-04-18</td>\n",
       "      <td>PRV55912</td>\n",
       "      <td>26000</td>\n",
       "      <td>PHY390922</td>\n",
       "      <td>0</td>\n",
       "      <td>0</td>\n",
       "      <td>2009-04-12</td>\n",
       "      <td>...</td>\n",
       "      <td>0.0</td>\n",
       "      <td>0.0</td>\n",
       "      <td>0.0</td>\n",
       "      <td>0.0</td>\n",
       "      <td>0.0</td>\n",
       "      <td>0.0</td>\n",
       "      <td>6</td>\n",
       "      <td>6</td>\n",
       "      <td>0</td>\n",
       "      <td>1</td>\n",
       "    </tr>\n",
       "    <tr>\n",
       "      <th>1</th>\n",
       "      <td>BENE11001</td>\n",
       "      <td>CLM66048</td>\n",
       "      <td>2009-08-31</td>\n",
       "      <td>2009-09-02</td>\n",
       "      <td>PRV55907</td>\n",
       "      <td>5000</td>\n",
       "      <td>PHY318495</td>\n",
       "      <td>PHY318495</td>\n",
       "      <td>0</td>\n",
       "      <td>2009-08-31</td>\n",
       "      <td>...</td>\n",
       "      <td>7092.0</td>\n",
       "      <td>0.0</td>\n",
       "      <td>0.0</td>\n",
       "      <td>0.0</td>\n",
       "      <td>0.0</td>\n",
       "      <td>0.0</td>\n",
       "      <td>2</td>\n",
       "      <td>2</td>\n",
       "      <td>0</td>\n",
       "      <td>1</td>\n",
       "    </tr>\n",
       "    <tr>\n",
       "      <th>2</th>\n",
       "      <td>BENE11001</td>\n",
       "      <td>CLM68358</td>\n",
       "      <td>2009-09-17</td>\n",
       "      <td>2009-09-20</td>\n",
       "      <td>PRV56046</td>\n",
       "      <td>5000</td>\n",
       "      <td>PHY372395</td>\n",
       "      <td>0</td>\n",
       "      <td>PHY324689</td>\n",
       "      <td>2009-09-17</td>\n",
       "      <td>...</td>\n",
       "      <td>0.0</td>\n",
       "      <td>0.0</td>\n",
       "      <td>0.0</td>\n",
       "      <td>0.0</td>\n",
       "      <td>0.0</td>\n",
       "      <td>0.0</td>\n",
       "      <td>3</td>\n",
       "      <td>3</td>\n",
       "      <td>0</td>\n",
       "      <td>1</td>\n",
       "    </tr>\n",
       "    <tr>\n",
       "      <th>3</th>\n",
       "      <td>BENE11011</td>\n",
       "      <td>CLM38412</td>\n",
       "      <td>2009-02-14</td>\n",
       "      <td>2009-02-22</td>\n",
       "      <td>PRV52405</td>\n",
       "      <td>5000</td>\n",
       "      <td>PHY369659</td>\n",
       "      <td>PHY392961</td>\n",
       "      <td>PHY349768</td>\n",
       "      <td>2009-02-14</td>\n",
       "      <td>...</td>\n",
       "      <td>331.0</td>\n",
       "      <td>0.0</td>\n",
       "      <td>0.0</td>\n",
       "      <td>0.0</td>\n",
       "      <td>0.0</td>\n",
       "      <td>0.0</td>\n",
       "      <td>8</td>\n",
       "      <td>8</td>\n",
       "      <td>0</td>\n",
       "      <td>1</td>\n",
       "    </tr>\n",
       "    <tr>\n",
       "      <th>4</th>\n",
       "      <td>BENE11014</td>\n",
       "      <td>CLM63689</td>\n",
       "      <td>2009-08-13</td>\n",
       "      <td>2009-08-30</td>\n",
       "      <td>PRV56614</td>\n",
       "      <td>10000</td>\n",
       "      <td>PHY379376</td>\n",
       "      <td>PHY398258</td>\n",
       "      <td>0</td>\n",
       "      <td>2009-08-13</td>\n",
       "      <td>...</td>\n",
       "      <td>3893.0</td>\n",
       "      <td>0.0</td>\n",
       "      <td>0.0</td>\n",
       "      <td>0.0</td>\n",
       "      <td>0.0</td>\n",
       "      <td>0.0</td>\n",
       "      <td>17</td>\n",
       "      <td>17</td>\n",
       "      <td>0</td>\n",
       "      <td>1</td>\n",
       "    </tr>\n",
       "  </tbody>\n",
       "</table>\n",
       "<p>5 rows × 34 columns</p>\n",
       "</div>"
      ],
      "text/plain": [
       "      BeneID   ClaimID ClaimStartDt ClaimEndDt  Provider  \\\n",
       "0  BENE11001  CLM46614   2009-04-12 2009-04-18  PRV55912   \n",
       "1  BENE11001  CLM66048   2009-08-31 2009-09-02  PRV55907   \n",
       "2  BENE11001  CLM68358   2009-09-17 2009-09-20  PRV56046   \n",
       "3  BENE11011  CLM38412   2009-02-14 2009-02-22  PRV52405   \n",
       "4  BENE11014  CLM63689   2009-08-13 2009-08-30  PRV56614   \n",
       "\n",
       "   InscClaimAmtReimbursed AttendingPhysician OperatingPhysician  \\\n",
       "0                   26000          PHY390922                  0   \n",
       "1                    5000          PHY318495          PHY318495   \n",
       "2                    5000          PHY372395                  0   \n",
       "3                    5000          PHY369659          PHY392961   \n",
       "4                   10000          PHY379376          PHY398258   \n",
       "\n",
       "  OtherPhysician AdmissionDt  ... ClmProcedureCode_1  ClmProcedureCode_2  \\\n",
       "0              0  2009-04-12  ...                0.0                 0.0   \n",
       "1              0  2009-08-31  ...             7092.0                 0.0   \n",
       "2      PHY324689  2009-09-17  ...                0.0                 0.0   \n",
       "3      PHY349768  2009-02-14  ...              331.0                 0.0   \n",
       "4              0  2009-08-13  ...             3893.0                 0.0   \n",
       "\n",
       "  ClmProcedureCode_3 ClmProcedureCode_4 ClmProcedureCode_5 ClmProcedureCode_6  \\\n",
       "0                0.0                0.0                0.0                0.0   \n",
       "1                0.0                0.0                0.0                0.0   \n",
       "2                0.0                0.0                0.0                0.0   \n",
       "3                0.0                0.0                0.0                0.0   \n",
       "4                0.0                0.0                0.0                0.0   \n",
       "\n",
       "  days_admitted Claim_duration Extra_days_claimed was_admitted  \n",
       "0             6              6                  0            1  \n",
       "1             2              2                  0            1  \n",
       "2             3              3                  0            1  \n",
       "3             8              8                  0            1  \n",
       "4            17             17                  0            1  \n",
       "\n",
       "[5 rows x 34 columns]"
      ]
     },
     "execution_count": 29,
     "metadata": {},
     "output_type": "execute_result"
    }
   ],
   "source": [
    "inpatient_data.head()"
   ]
  },
  {
   "cell_type": "markdown",
   "id": "bdf6fbb0",
   "metadata": {
    "id": "bdf6fbb0"
   },
   "source": [
    "## Outpatient data"
   ]
  },
  {
   "cell_type": "code",
   "execution_count": 30,
   "id": "367a6185",
   "metadata": {
    "colab": {
     "base_uri": "https://localhost:8080/"
    },
    "id": "367a6185",
    "outputId": "2e0c15d6-bfb6-4212-b0bc-f209d8400835"
   },
   "outputs": [
    {
     "data": {
      "text/plain": [
       "(517737, 27)"
      ]
     },
     "execution_count": 30,
     "metadata": {},
     "output_type": "execute_result"
    }
   ],
   "source": [
    "outpatient_data.shape"
   ]
  },
  {
   "cell_type": "code",
   "execution_count": 31,
   "id": "02dc0630",
   "metadata": {
    "colab": {
     "base_uri": "https://localhost:8080/"
    },
    "id": "02dc0630",
    "outputId": "34bbc021-55dd-4d16-a162-7fc7f5e5766e"
   },
   "outputs": [
    {
     "name": "stdout",
     "output_type": "stream",
     "text": [
      "<class 'pandas.core.frame.DataFrame'>\n",
      "RangeIndex: 517737 entries, 0 to 517736\n",
      "Data columns (total 27 columns):\n",
      " #   Column                  Non-Null Count   Dtype  \n",
      "---  ------                  --------------   -----  \n",
      " 0   BeneID                  517737 non-null  object \n",
      " 1   ClaimID                 517737 non-null  object \n",
      " 2   ClaimStartDt            517737 non-null  object \n",
      " 3   ClaimEndDt              517737 non-null  object \n",
      " 4   Provider                517737 non-null  object \n",
      " 5   InscClaimAmtReimbursed  517737 non-null  int64  \n",
      " 6   AttendingPhysician      516341 non-null  object \n",
      " 7   OperatingPhysician      90617 non-null   object \n",
      " 8   OtherPhysician          195046 non-null  object \n",
      " 9   ClmDiagnosisCode_1      507284 non-null  object \n",
      " 10  ClmDiagnosisCode_2      322357 non-null  object \n",
      " 11  ClmDiagnosisCode_3      203257 non-null  object \n",
      " 12  ClmDiagnosisCode_4      125596 non-null  object \n",
      " 13  ClmDiagnosisCode_5      74344 non-null   object \n",
      " 14  ClmDiagnosisCode_6      48756 non-null   object \n",
      " 15  ClmDiagnosisCode_7      32961 non-null   object \n",
      " 16  ClmDiagnosisCode_8      22912 non-null   object \n",
      " 17  ClmDiagnosisCode_9      14838 non-null   object \n",
      " 18  ClmDiagnosisCode_10     1083 non-null    object \n",
      " 19  ClmProcedureCode_1      162 non-null     float64\n",
      " 20  ClmProcedureCode_2      36 non-null      float64\n",
      " 21  ClmProcedureCode_3      4 non-null       float64\n",
      " 22  ClmProcedureCode_4      2 non-null       float64\n",
      " 23  ClmProcedureCode_5      0 non-null       float64\n",
      " 24  ClmProcedureCode_6      0 non-null       float64\n",
      " 25  DeductibleAmtPaid       517737 non-null  int64  \n",
      " 26  ClmAdmitDiagnosisCode   105425 non-null  object \n",
      "dtypes: float64(6), int64(2), object(19)\n",
      "memory usage: 106.7+ MB\n"
     ]
    }
   ],
   "source": [
    "outpatient_data.info()"
   ]
  },
  {
   "cell_type": "code",
   "execution_count": 32,
   "id": "7d010cad",
   "metadata": {
    "colab": {
     "base_uri": "https://localhost:8080/"
    },
    "id": "7d010cad",
    "outputId": "fc1ffdef-c25e-4ef9-d7fe-30488bd29f7f"
   },
   "outputs": [
    {
     "data": {
      "text/plain": [
       "BeneID                         0\n",
       "ClaimID                        0\n",
       "ClaimStartDt                   0\n",
       "ClaimEndDt                     0\n",
       "Provider                       0\n",
       "InscClaimAmtReimbursed         0\n",
       "AttendingPhysician          1396\n",
       "OperatingPhysician        427120\n",
       "OtherPhysician            322691\n",
       "ClmDiagnosisCode_1         10453\n",
       "ClmDiagnosisCode_2        195380\n",
       "ClmDiagnosisCode_3        314480\n",
       "ClmDiagnosisCode_4        392141\n",
       "ClmDiagnosisCode_5        443393\n",
       "ClmDiagnosisCode_6        468981\n",
       "ClmDiagnosisCode_7        484776\n",
       "ClmDiagnosisCode_8        494825\n",
       "ClmDiagnosisCode_9        502899\n",
       "ClmDiagnosisCode_10       516654\n",
       "ClmProcedureCode_1        517575\n",
       "ClmProcedureCode_2        517701\n",
       "ClmProcedureCode_3        517733\n",
       "ClmProcedureCode_4        517735\n",
       "ClmProcedureCode_5        517737\n",
       "ClmProcedureCode_6        517737\n",
       "DeductibleAmtPaid              0\n",
       "ClmAdmitDiagnosisCode     412312\n",
       "dtype: int64"
      ]
     },
     "execution_count": 32,
     "metadata": {},
     "output_type": "execute_result"
    }
   ],
   "source": [
    "outpatient_data.isnull().sum()"
   ]
  },
  {
   "cell_type": "code",
   "execution_count": 33,
   "id": "17c75a4a",
   "metadata": {
    "colab": {
     "base_uri": "https://localhost:8080/"
    },
    "id": "17c75a4a",
    "outputId": "e027b261-aaf4-4b8f-d404-26ac4ec609e7"
   },
   "outputs": [
    {
     "data": {
      "text/plain": [
       "3715"
      ]
     },
     "execution_count": 33,
     "metadata": {},
     "output_type": "execute_result"
    }
   ],
   "source": [
    "outpatient_data.ClmAdmitDiagnosisCode.nunique()"
   ]
  },
  {
   "cell_type": "code",
   "execution_count": 34,
   "id": "909207df",
   "metadata": {
    "id": "909207df"
   },
   "outputs": [],
   "source": [
    "# convert ClaimStartDt, ClaimEndDt from string to datetime format\n",
    "outpatient_data['ClaimStartDt'] = pd.to_datetime(outpatient_data['ClaimStartDt'] , format = '%Y-%m-%d')\n",
    "outpatient_data['ClaimEndDt'] = pd.to_datetime(outpatient_data['ClaimEndDt'],format = '%Y-%m-%d')"
   ]
  },
  {
   "cell_type": "code",
   "execution_count": 35,
   "id": "eb53eebc",
   "metadata": {
    "id": "eb53eebc"
   },
   "outputs": [],
   "source": [
    "outpatient_data[['AttendingPhysician','OperatingPhysician','OtherPhysician']]=outpatient_data[['AttendingPhysician','OperatingPhysician','OtherPhysician']].fillna(0)"
   ]
  },
  {
   "cell_type": "code",
   "execution_count": 36,
   "id": "31190910",
   "metadata": {
    "id": "31190910"
   },
   "outputs": [],
   "source": [
    "#outpatient_data.drop(columns = ['ClmProcedureCode_5', 'ClmProcedureCode_6'], axis=1, inplace= True) #No Values\n",
    "\n",
    "for count in range(6):\n",
    "    outpatient_data[f'ClmProcedureCode_{count+1}'] = outpatient_data[f'ClmProcedureCode_{count+1}'].fillna(0)\n",
    "    \n",
    "for count in range(10):\n",
    "    outpatient_data[f'ClmDiagnosisCode_{count+1}'] = outpatient_data[f'ClmDiagnosisCode_{count+1}'].fillna('0')"
   ]
  },
  {
   "cell_type": "code",
   "execution_count": 37,
   "id": "5243c7ac",
   "metadata": {
    "id": "5243c7ac"
   },
   "outputs": [],
   "source": [
    "outpatient_data['ClmAdmitDiagnosisCode']=outpatient_data['ClmAdmitDiagnosisCode'].fillna(0)"
   ]
  },
  {
   "cell_type": "code",
   "execution_count": 38,
   "id": "c0277bf2",
   "metadata": {
    "colab": {
     "base_uri": "https://localhost:8080/"
    },
    "id": "c0277bf2",
    "outputId": "dcd6e2e0-5116-4ced-cb93-8da43802799f"
   },
   "outputs": [
    {
     "data": {
      "text/plain": [
       "BeneID                    0\n",
       "ClaimID                   0\n",
       "ClaimStartDt              0\n",
       "ClaimEndDt                0\n",
       "Provider                  0\n",
       "InscClaimAmtReimbursed    0\n",
       "AttendingPhysician        0\n",
       "OperatingPhysician        0\n",
       "OtherPhysician            0\n",
       "ClmDiagnosisCode_1        0\n",
       "ClmDiagnosisCode_2        0\n",
       "ClmDiagnosisCode_3        0\n",
       "ClmDiagnosisCode_4        0\n",
       "ClmDiagnosisCode_5        0\n",
       "ClmDiagnosisCode_6        0\n",
       "ClmDiagnosisCode_7        0\n",
       "ClmDiagnosisCode_8        0\n",
       "ClmDiagnosisCode_9        0\n",
       "ClmDiagnosisCode_10       0\n",
       "ClmProcedureCode_1        0\n",
       "ClmProcedureCode_2        0\n",
       "ClmProcedureCode_3        0\n",
       "ClmProcedureCode_4        0\n",
       "ClmProcedureCode_5        0\n",
       "ClmProcedureCode_6        0\n",
       "DeductibleAmtPaid         0\n",
       "ClmAdmitDiagnosisCode     0\n",
       "dtype: int64"
      ]
     },
     "execution_count": 38,
     "metadata": {},
     "output_type": "execute_result"
    }
   ],
   "source": [
    "outpatient_data.isnull().sum()"
   ]
  },
  {
   "cell_type": "code",
   "execution_count": 39,
   "id": "123c7761",
   "metadata": {
    "id": "123c7761"
   },
   "outputs": [],
   "source": [
    "outpatient_data['was_admitted']=0"
   ]
  },
  {
   "cell_type": "code",
   "execution_count": 40,
   "id": "3dd3f627",
   "metadata": {
    "colab": {
     "base_uri": "https://localhost:8080/"
    },
    "id": "3dd3f627",
    "outputId": "90ae6f7f-ac3d-460d-ba8e-0cacf48018b1"
   },
   "outputs": [
    {
     "data": {
      "text/html": [
       "<div>\n",
       "<style scoped>\n",
       "    .dataframe tbody tr th:only-of-type {\n",
       "        vertical-align: middle;\n",
       "    }\n",
       "\n",
       "    .dataframe tbody tr th {\n",
       "        vertical-align: top;\n",
       "    }\n",
       "\n",
       "    .dataframe thead th {\n",
       "        text-align: right;\n",
       "    }\n",
       "</style>\n",
       "<table border=\"1\" class=\"dataframe\">\n",
       "  <thead>\n",
       "    <tr style=\"text-align: right;\">\n",
       "      <th></th>\n",
       "      <th>BeneID</th>\n",
       "      <th>ClaimID</th>\n",
       "      <th>ClaimStartDt</th>\n",
       "      <th>ClaimEndDt</th>\n",
       "      <th>Provider</th>\n",
       "      <th>InscClaimAmtReimbursed</th>\n",
       "      <th>AttendingPhysician</th>\n",
       "      <th>OperatingPhysician</th>\n",
       "      <th>OtherPhysician</th>\n",
       "      <th>ClmDiagnosisCode_1</th>\n",
       "      <th>...</th>\n",
       "      <th>ClmDiagnosisCode_10</th>\n",
       "      <th>ClmProcedureCode_1</th>\n",
       "      <th>ClmProcedureCode_2</th>\n",
       "      <th>ClmProcedureCode_3</th>\n",
       "      <th>ClmProcedureCode_4</th>\n",
       "      <th>ClmProcedureCode_5</th>\n",
       "      <th>ClmProcedureCode_6</th>\n",
       "      <th>DeductibleAmtPaid</th>\n",
       "      <th>ClmAdmitDiagnosisCode</th>\n",
       "      <th>was_admitted</th>\n",
       "    </tr>\n",
       "  </thead>\n",
       "  <tbody>\n",
       "    <tr>\n",
       "      <th>0</th>\n",
       "      <td>BENE11002</td>\n",
       "      <td>CLM624349</td>\n",
       "      <td>2009-10-11</td>\n",
       "      <td>2009-10-11</td>\n",
       "      <td>PRV56011</td>\n",
       "      <td>30</td>\n",
       "      <td>PHY326117</td>\n",
       "      <td>0</td>\n",
       "      <td>0</td>\n",
       "      <td>78943</td>\n",
       "      <td>...</td>\n",
       "      <td>0</td>\n",
       "      <td>0.0</td>\n",
       "      <td>0.0</td>\n",
       "      <td>0.0</td>\n",
       "      <td>0.0</td>\n",
       "      <td>0.0</td>\n",
       "      <td>0.0</td>\n",
       "      <td>0</td>\n",
       "      <td>56409</td>\n",
       "      <td>0</td>\n",
       "    </tr>\n",
       "    <tr>\n",
       "      <th>1</th>\n",
       "      <td>BENE11003</td>\n",
       "      <td>CLM189947</td>\n",
       "      <td>2009-02-12</td>\n",
       "      <td>2009-02-12</td>\n",
       "      <td>PRV57610</td>\n",
       "      <td>80</td>\n",
       "      <td>PHY362868</td>\n",
       "      <td>0</td>\n",
       "      <td>0</td>\n",
       "      <td>6115</td>\n",
       "      <td>...</td>\n",
       "      <td>0</td>\n",
       "      <td>0.0</td>\n",
       "      <td>0.0</td>\n",
       "      <td>0.0</td>\n",
       "      <td>0.0</td>\n",
       "      <td>0.0</td>\n",
       "      <td>0.0</td>\n",
       "      <td>0</td>\n",
       "      <td>79380</td>\n",
       "      <td>0</td>\n",
       "    </tr>\n",
       "    <tr>\n",
       "      <th>2</th>\n",
       "      <td>BENE11003</td>\n",
       "      <td>CLM438021</td>\n",
       "      <td>2009-06-27</td>\n",
       "      <td>2009-06-27</td>\n",
       "      <td>PRV57595</td>\n",
       "      <td>10</td>\n",
       "      <td>PHY328821</td>\n",
       "      <td>0</td>\n",
       "      <td>0</td>\n",
       "      <td>2723</td>\n",
       "      <td>...</td>\n",
       "      <td>0</td>\n",
       "      <td>0.0</td>\n",
       "      <td>0.0</td>\n",
       "      <td>0.0</td>\n",
       "      <td>0.0</td>\n",
       "      <td>0.0</td>\n",
       "      <td>0.0</td>\n",
       "      <td>0</td>\n",
       "      <td>0</td>\n",
       "      <td>0</td>\n",
       "    </tr>\n",
       "    <tr>\n",
       "      <th>3</th>\n",
       "      <td>BENE11004</td>\n",
       "      <td>CLM121801</td>\n",
       "      <td>2009-01-06</td>\n",
       "      <td>2009-01-06</td>\n",
       "      <td>PRV56011</td>\n",
       "      <td>40</td>\n",
       "      <td>PHY334319</td>\n",
       "      <td>0</td>\n",
       "      <td>0</td>\n",
       "      <td>71988</td>\n",
       "      <td>...</td>\n",
       "      <td>0</td>\n",
       "      <td>0.0</td>\n",
       "      <td>0.0</td>\n",
       "      <td>0.0</td>\n",
       "      <td>0.0</td>\n",
       "      <td>0.0</td>\n",
       "      <td>0.0</td>\n",
       "      <td>0</td>\n",
       "      <td>0</td>\n",
       "      <td>0</td>\n",
       "    </tr>\n",
       "    <tr>\n",
       "      <th>4</th>\n",
       "      <td>BENE11004</td>\n",
       "      <td>CLM150998</td>\n",
       "      <td>2009-01-22</td>\n",
       "      <td>2009-01-22</td>\n",
       "      <td>PRV56011</td>\n",
       "      <td>200</td>\n",
       "      <td>PHY403831</td>\n",
       "      <td>0</td>\n",
       "      <td>0</td>\n",
       "      <td>82382</td>\n",
       "      <td>...</td>\n",
       "      <td>0</td>\n",
       "      <td>0.0</td>\n",
       "      <td>0.0</td>\n",
       "      <td>0.0</td>\n",
       "      <td>0.0</td>\n",
       "      <td>0.0</td>\n",
       "      <td>0.0</td>\n",
       "      <td>0</td>\n",
       "      <td>71947</td>\n",
       "      <td>0</td>\n",
       "    </tr>\n",
       "  </tbody>\n",
       "</table>\n",
       "<p>5 rows × 28 columns</p>\n",
       "</div>"
      ],
      "text/plain": [
       "      BeneID    ClaimID ClaimStartDt ClaimEndDt  Provider  \\\n",
       "0  BENE11002  CLM624349   2009-10-11 2009-10-11  PRV56011   \n",
       "1  BENE11003  CLM189947   2009-02-12 2009-02-12  PRV57610   \n",
       "2  BENE11003  CLM438021   2009-06-27 2009-06-27  PRV57595   \n",
       "3  BENE11004  CLM121801   2009-01-06 2009-01-06  PRV56011   \n",
       "4  BENE11004  CLM150998   2009-01-22 2009-01-22  PRV56011   \n",
       "\n",
       "   InscClaimAmtReimbursed AttendingPhysician OperatingPhysician  \\\n",
       "0                      30          PHY326117                  0   \n",
       "1                      80          PHY362868                  0   \n",
       "2                      10          PHY328821                  0   \n",
       "3                      40          PHY334319                  0   \n",
       "4                     200          PHY403831                  0   \n",
       "\n",
       "  OtherPhysician ClmDiagnosisCode_1  ... ClmDiagnosisCode_10  \\\n",
       "0              0              78943  ...                   0   \n",
       "1              0               6115  ...                   0   \n",
       "2              0               2723  ...                   0   \n",
       "3              0              71988  ...                   0   \n",
       "4              0              82382  ...                   0   \n",
       "\n",
       "  ClmProcedureCode_1 ClmProcedureCode_2 ClmProcedureCode_3 ClmProcedureCode_4  \\\n",
       "0                0.0                0.0                0.0                0.0   \n",
       "1                0.0                0.0                0.0                0.0   \n",
       "2                0.0                0.0                0.0                0.0   \n",
       "3                0.0                0.0                0.0                0.0   \n",
       "4                0.0                0.0                0.0                0.0   \n",
       "\n",
       "  ClmProcedureCode_5 ClmProcedureCode_6 DeductibleAmtPaid  \\\n",
       "0                0.0                0.0                 0   \n",
       "1                0.0                0.0                 0   \n",
       "2                0.0                0.0                 0   \n",
       "3                0.0                0.0                 0   \n",
       "4                0.0                0.0                 0   \n",
       "\n",
       "  ClmAdmitDiagnosisCode  was_admitted  \n",
       "0                 56409             0  \n",
       "1                 79380             0  \n",
       "2                     0             0  \n",
       "3                     0             0  \n",
       "4                 71947             0  \n",
       "\n",
       "[5 rows x 28 columns]"
      ]
     },
     "execution_count": 40,
     "metadata": {},
     "output_type": "execute_result"
    }
   ],
   "source": [
    "outpatient_data.head()"
   ]
  },
  {
   "cell_type": "markdown",
   "id": "7e0431c6",
   "metadata": {
    "id": "7e0431c6"
   },
   "source": [
    "## Merging all datasets"
   ]
  },
  {
   "cell_type": "markdown",
   "id": "260cf8c8",
   "metadata": {
    "id": "260cf8c8"
   },
   "source": [
    "#### 1. Merging inpatient and outpatient datasets"
   ]
  },
  {
   "cell_type": "code",
   "execution_count": 41,
   "id": "11833555",
   "metadata": {
    "colab": {
     "base_uri": "https://localhost:8080/"
    },
    "id": "11833555",
    "outputId": "f6adc98c-8646-413c-e813-cf63d0ff039b"
   },
   "outputs": [
    {
     "name": "stdout",
     "output_type": "stream",
     "text": [
      "(40474, 34)\n",
      "(517737, 28)\n"
     ]
    }
   ],
   "source": [
    "print(inpatient_data.shape)\n",
    "print(outpatient_data.shape)"
   ]
  },
  {
   "cell_type": "code",
   "execution_count": 42,
   "id": "928f82f9",
   "metadata": {
    "colab": {
     "base_uri": "https://localhost:8080/"
    },
    "id": "928f82f9",
    "outputId": "c71f1915-d892-45f4-a295-5b24352ea16c"
   },
   "outputs": [
    {
     "name": "stdout",
     "output_type": "stream",
     "text": [
      "0 BeneID\n",
      "1 ClaimID\n",
      "2 ClaimStartDt\n",
      "3 ClaimEndDt\n",
      "4 Provider\n",
      "5 InscClaimAmtReimbursed\n",
      "6 AttendingPhysician\n",
      "7 OperatingPhysician\n",
      "8 OtherPhysician\n",
      "9 ClmAdmitDiagnosisCode\n",
      "10 DeductibleAmtPaid\n",
      "11 ClmDiagnosisCode_1\n",
      "12 ClmDiagnosisCode_2\n",
      "13 ClmDiagnosisCode_3\n",
      "14 ClmDiagnosisCode_4\n",
      "15 ClmDiagnosisCode_5\n",
      "16 ClmDiagnosisCode_6\n",
      "17 ClmDiagnosisCode_7\n",
      "18 ClmDiagnosisCode_8\n",
      "19 ClmDiagnosisCode_9\n",
      "20 ClmDiagnosisCode_10\n",
      "21 ClmProcedureCode_1\n",
      "22 ClmProcedureCode_2\n",
      "23 ClmProcedureCode_3\n",
      "24 ClmProcedureCode_4\n",
      "25 ClmProcedureCode_5\n",
      "26 ClmProcedureCode_6\n",
      "27 was_admitted\n"
     ]
    },
    {
     "data": {
      "text/plain": [
       "28"
      ]
     },
     "execution_count": 42,
     "metadata": {},
     "output_type": "execute_result"
    }
   ],
   "source": [
    "# getting commonn columns\n",
    "common_cols=[]\n",
    "k=0\n",
    "for i in inpatient_data.columns:\n",
    "    if i in outpatient_data.columns:\n",
    "        common_cols.append(i)\n",
    "        print(k,i)\n",
    "        k=k+1\n",
    "len(common_cols)"
   ]
  },
  {
   "cell_type": "code",
   "execution_count": 43,
   "id": "5fe96ff5",
   "metadata": {
    "id": "5fe96ff5"
   },
   "outputs": [],
   "source": [
    "merged_in_out=pd.merge(inpatient_data,outpatient_data,on=common_cols,how='outer')"
   ]
  },
  {
   "cell_type": "code",
   "execution_count": 44,
   "id": "de58eb17",
   "metadata": {
    "colab": {
     "base_uri": "https://localhost:8080/"
    },
    "id": "de58eb17",
    "outputId": "449b842b-8734-4568-dfca-c28a39de2ade"
   },
   "outputs": [
    {
     "data": {
      "text/plain": [
       "(558211, 34)"
      ]
     },
     "execution_count": 44,
     "metadata": {},
     "output_type": "execute_result"
    }
   ],
   "source": [
    "merged_in_out.shape"
   ]
  },
  {
   "cell_type": "code",
   "execution_count": 45,
   "id": "518c5886",
   "metadata": {
    "colab": {
     "base_uri": "https://localhost:8080/"
    },
    "id": "518c5886",
    "outputId": "8338adea-40b0-4c6b-dcf4-ab16e5a99c13"
   },
   "outputs": [
    {
     "data": {
      "text/plain": [
       "Index(['BeneID', 'ClaimID', 'ClaimStartDt', 'ClaimEndDt', 'Provider',\n",
       "       'InscClaimAmtReimbursed', 'AttendingPhysician', 'OperatingPhysician',\n",
       "       'OtherPhysician', 'AdmissionDt', 'ClmAdmitDiagnosisCode',\n",
       "       'DeductibleAmtPaid', 'DischargeDt', 'DiagnosisGroupCode',\n",
       "       'ClmDiagnosisCode_1', 'ClmDiagnosisCode_2', 'ClmDiagnosisCode_3',\n",
       "       'ClmDiagnosisCode_4', 'ClmDiagnosisCode_5', 'ClmDiagnosisCode_6',\n",
       "       'ClmDiagnosisCode_7', 'ClmDiagnosisCode_8', 'ClmDiagnosisCode_9',\n",
       "       'ClmDiagnosisCode_10', 'ClmProcedureCode_1', 'ClmProcedureCode_2',\n",
       "       'ClmProcedureCode_3', 'ClmProcedureCode_4', 'ClmProcedureCode_5',\n",
       "       'ClmProcedureCode_6', 'days_admitted', 'Claim_duration',\n",
       "       'Extra_days_claimed', 'was_admitted'],\n",
       "      dtype='object')"
      ]
     },
     "execution_count": 45,
     "metadata": {},
     "output_type": "execute_result"
    }
   ],
   "source": [
    "inpatient_data.columns"
   ]
  },
  {
   "cell_type": "code",
   "execution_count": 46,
   "id": "fa78197d",
   "metadata": {
    "colab": {
     "base_uri": "https://localhost:8080/"
    },
    "id": "fa78197d",
    "outputId": "9599661b-2347-4fff-9534-e80d851722ac"
   },
   "outputs": [
    {
     "data": {
      "text/plain": [
       "Index(['BeneID', 'ClaimID', 'ClaimStartDt', 'ClaimEndDt', 'Provider',\n",
       "       'InscClaimAmtReimbursed', 'AttendingPhysician', 'OperatingPhysician',\n",
       "       'OtherPhysician', 'ClmDiagnosisCode_1', 'ClmDiagnosisCode_2',\n",
       "       'ClmDiagnosisCode_3', 'ClmDiagnosisCode_4', 'ClmDiagnosisCode_5',\n",
       "       'ClmDiagnosisCode_6', 'ClmDiagnosisCode_7', 'ClmDiagnosisCode_8',\n",
       "       'ClmDiagnosisCode_9', 'ClmDiagnosisCode_10', 'ClmProcedureCode_1',\n",
       "       'ClmProcedureCode_2', 'ClmProcedureCode_3', 'ClmProcedureCode_4',\n",
       "       'ClmProcedureCode_5', 'ClmProcedureCode_6', 'DeductibleAmtPaid',\n",
       "       'ClmAdmitDiagnosisCode', 'was_admitted'],\n",
       "      dtype='object')"
      ]
     },
     "execution_count": 46,
     "metadata": {},
     "output_type": "execute_result"
    }
   ],
   "source": [
    "outpatient_data.columns"
   ]
  },
  {
   "cell_type": "code",
   "execution_count": 47,
   "id": "1a1cd6e8",
   "metadata": {
    "colab": {
     "base_uri": "https://localhost:8080/"
    },
    "id": "1a1cd6e8",
    "outputId": "0fe727b7-74b0-4303-9d63-26fe6f0bcad5"
   },
   "outputs": [
    {
     "data": {
      "text/plain": [
       "BeneID                         0\n",
       "ClaimID                        0\n",
       "ClaimStartDt                   0\n",
       "ClaimEndDt                     0\n",
       "Provider                       0\n",
       "InscClaimAmtReimbursed         0\n",
       "AttendingPhysician             0\n",
       "OperatingPhysician             0\n",
       "OtherPhysician                 0\n",
       "AdmissionDt               517737\n",
       "ClmAdmitDiagnosisCode          0\n",
       "DeductibleAmtPaid              0\n",
       "DischargeDt               517737\n",
       "DiagnosisGroupCode        517737\n",
       "ClmDiagnosisCode_1             0\n",
       "ClmDiagnosisCode_2             0\n",
       "ClmDiagnosisCode_3             0\n",
       "ClmDiagnosisCode_4             0\n",
       "ClmDiagnosisCode_5             0\n",
       "ClmDiagnosisCode_6             0\n",
       "ClmDiagnosisCode_7             0\n",
       "ClmDiagnosisCode_8             0\n",
       "ClmDiagnosisCode_9             0\n",
       "ClmDiagnosisCode_10            0\n",
       "ClmProcedureCode_1             0\n",
       "ClmProcedureCode_2             0\n",
       "ClmProcedureCode_3             0\n",
       "ClmProcedureCode_4             0\n",
       "ClmProcedureCode_5             0\n",
       "ClmProcedureCode_6             0\n",
       "days_admitted             517737\n",
       "Claim_duration            517737\n",
       "Extra_days_claimed        517737\n",
       "was_admitted                   0\n",
       "dtype: int64"
      ]
     },
     "execution_count": 47,
     "metadata": {},
     "output_type": "execute_result"
    }
   ],
   "source": [
    "merged_in_out.isnull().sum()"
   ]
  },
  {
   "cell_type": "code",
   "execution_count": 48,
   "id": "2fdb4458",
   "metadata": {
    "colab": {
     "base_uri": "https://localhost:8080/"
    },
    "id": "2fdb4458",
    "outputId": "0085438d-46a6-4dab-f61f-b2fbc168ad52"
   },
   "outputs": [
    {
     "data": {
      "text/plain": [
       "Index(['BeneID', 'ClaimID', 'ClaimStartDt', 'ClaimEndDt', 'Provider',\n",
       "       'InscClaimAmtReimbursed', 'AttendingPhysician', 'OperatingPhysician',\n",
       "       'OtherPhysician', 'AdmissionDt', 'ClmAdmitDiagnosisCode',\n",
       "       'DeductibleAmtPaid', 'DischargeDt', 'DiagnosisGroupCode',\n",
       "       'ClmDiagnosisCode_1', 'ClmDiagnosisCode_2', 'ClmDiagnosisCode_3',\n",
       "       'ClmDiagnosisCode_4', 'ClmDiagnosisCode_5', 'ClmDiagnosisCode_6',\n",
       "       'ClmDiagnosisCode_7', 'ClmDiagnosisCode_8', 'ClmDiagnosisCode_9',\n",
       "       'ClmDiagnosisCode_10', 'ClmProcedureCode_1', 'ClmProcedureCode_2',\n",
       "       'ClmProcedureCode_3', 'ClmProcedureCode_4', 'ClmProcedureCode_5',\n",
       "       'ClmProcedureCode_6', 'days_admitted', 'Claim_duration',\n",
       "       'Extra_days_claimed', 'was_admitted'],\n",
       "      dtype='object')"
      ]
     },
     "execution_count": 48,
     "metadata": {},
     "output_type": "execute_result"
    }
   ],
   "source": [
    "merged_in_out.columns\n"
   ]
  },
  {
   "cell_type": "markdown",
   "id": "c8cb1ae3",
   "metadata": {
    "id": "c8cb1ae3"
   },
   "source": [
    "#### 2. Merging merged_in_out with beneficiary datasets"
   ]
  },
  {
   "cell_type": "code",
   "execution_count": 49,
   "id": "46d98b1f",
   "metadata": {
    "colab": {
     "base_uri": "https://localhost:8080/"
    },
    "id": "46d98b1f",
    "outputId": "df643ec2-450f-4e5e-b3fd-8c27d467402e"
   },
   "outputs": [
    {
     "data": {
      "text/plain": [
       "(138556, 28)"
      ]
     },
     "execution_count": 49,
     "metadata": {},
     "output_type": "execute_result"
    }
   ],
   "source": [
    "beneficiary_data.shape"
   ]
  },
  {
   "cell_type": "code",
   "execution_count": 50,
   "id": "695097b8",
   "metadata": {
    "id": "695097b8"
   },
   "outputs": [],
   "source": [
    "merged_in_out_ben=pd.merge(merged_in_out,beneficiary_data,on='BeneID',how='inner')"
   ]
  },
  {
   "cell_type": "code",
   "execution_count": 51,
   "id": "c804012e",
   "metadata": {
    "colab": {
     "base_uri": "https://localhost:8080/"
    },
    "id": "c804012e",
    "outputId": "0b0a79de-4df1-459e-df16-2d32f3f699d9"
   },
   "outputs": [
    {
     "data": {
      "text/plain": [
       "(558211, 61)"
      ]
     },
     "execution_count": 51,
     "metadata": {},
     "output_type": "execute_result"
    }
   ],
   "source": [
    "merged_in_out_ben.shape"
   ]
  },
  {
   "cell_type": "markdown",
   "id": "0e8ea44f",
   "metadata": {
    "id": "0e8ea44f"
   },
   "source": [
    "#### 3. Merging merged_in_out_ben with provider datasets"
   ]
  },
  {
   "cell_type": "code",
   "execution_count": 52,
   "id": "d21ac68b",
   "metadata": {
    "id": "d21ac68b"
   },
   "outputs": [],
   "source": [
    "final_merged_data=pd.merge(merged_in_out_ben,label_data,on='Provider',how='inner')"
   ]
  },
  {
   "cell_type": "code",
   "execution_count": 53,
   "id": "127e8f32",
   "metadata": {
    "colab": {
     "base_uri": "https://localhost:8080/"
    },
    "id": "127e8f32",
    "outputId": "9b8bd7ef-90a5-435a-b2fd-6bb893afed8d"
   },
   "outputs": [
    {
     "data": {
      "text/plain": [
       "(558211, 62)"
      ]
     },
     "execution_count": 53,
     "metadata": {},
     "output_type": "execute_result"
    }
   ],
   "source": [
    "final_merged_data.shape"
   ]
  },
  {
   "cell_type": "code",
   "execution_count": 54,
   "id": "351711d6",
   "metadata": {
    "colab": {
     "base_uri": "https://localhost:8080/"
    },
    "id": "351711d6",
    "outputId": "2d2a9bc5-d878-427c-d085-edc58229d361"
   },
   "outputs": [
    {
     "data": {
      "text/plain": [
       "BeneID                   0\n",
       "ClaimID                  0\n",
       "ClaimStartDt             0\n",
       "ClaimEndDt               0\n",
       "Provider                 0\n",
       "                        ..\n",
       "OPAnnualDeductibleAmt    0\n",
       "Patient_Age              0\n",
       "is_dead                  0\n",
       "Patient_Risk_Score       0\n",
       "PotentialFraud           0\n",
       "Length: 62, dtype: int64"
      ]
     },
     "execution_count": 54,
     "metadata": {},
     "output_type": "execute_result"
    }
   ],
   "source": [
    "final_merged_data.isnull().sum()"
   ]
  },
  {
   "cell_type": "code",
   "execution_count": 55,
   "id": "ed21f9dc",
   "metadata": {
    "colab": {
     "base_uri": "https://localhost:8080/"
    },
    "id": "ed21f9dc",
    "outputId": "0e70f58a-8dfd-4b16-8d1e-c799af4d128f"
   },
   "outputs": [
    {
     "data": {
      "text/plain": [
       "(558211, 62)"
      ]
     },
     "execution_count": 55,
     "metadata": {},
     "output_type": "execute_result"
    }
   ],
   "source": [
    "final_merged_data.shape"
   ]
  },
  {
   "cell_type": "code",
   "execution_count": 56,
   "id": "42b77164",
   "metadata": {
    "id": "42b77164"
   },
   "outputs": [],
   "source": [
    "final_merged_data['Total_ip_op_AnnualReimbursementAmt']=final_merged_data['IPAnnualReimbursementAmt']+final_merged_data['OPAnnualReimbursementAmt']"
   ]
  },
  {
   "cell_type": "code",
   "execution_count": 57,
   "id": "02203f87",
   "metadata": {
    "id": "02203f87"
   },
   "outputs": [],
   "source": [
    "final_merged_data['Total_ip_op_AnnualDeductibleAmt']=final_merged_data['IPAnnualDeductibleAmt']+final_merged_data['OPAnnualDeductibleAmt']"
   ]
  },
  {
   "cell_type": "markdown",
   "id": "405d9294",
   "metadata": {
    "id": "405d9294"
   },
   "source": [
    "### getting count of different physicians attended beneficiary"
   ]
  },
  {
   "cell_type": "code",
   "execution_count": 60,
   "id": "c6dcf6d6",
   "metadata": {
    "id": "c6dcf6d6"
   },
   "outputs": [],
   "source": [
    "filter_cols=['AttendingPhysician','OperatingPhysician','OtherPhysician']\n",
    "df=final_merged_data[filter_cols]\n",
    "col=np.where(df==0,0,1)\n",
    "sum_total_features=np.sum(col,axis=1) # adding all columns.\n",
    "final_merged_data['Total_physicans_attended']=sum_total_features # stroing in new column"
   ]
  },
  {
   "cell_type": "markdown",
   "id": "7faef452",
   "metadata": {
    "id": "7faef452"
   },
   "source": [
    "### getting count of different claim diagnosis code"
   ]
  },
  {
   "cell_type": "code",
   "execution_count": 61,
   "id": "0139e78d",
   "metadata": {
    "id": "0139e78d"
   },
   "outputs": [],
   "source": [
    "filter_cols=['ClmDiagnosisCode_1', 'ClmDiagnosisCode_2', 'ClmDiagnosisCode_3',\n",
    "       'ClmDiagnosisCode_4', 'ClmDiagnosisCode_5', 'ClmDiagnosisCode_6',\n",
    "       'ClmDiagnosisCode_7', 'ClmDiagnosisCode_8', 'ClmDiagnosisCode_9',\n",
    "       'ClmDiagnosisCode_10']\n",
    "df=final_merged_data[filter_cols]\n",
    "col=np.where(df==0,0,1)\n",
    "sum_total_features=np.sum(col,axis=1) # adding all columns.\n",
    "final_merged_data['Total_ClmDiagnosisCode']=sum_total_features # stroing in new column"
   ]
  },
  {
   "cell_type": "code",
   "execution_count": 62,
   "id": "689849cf",
   "metadata": {
    "colab": {
     "base_uri": "https://localhost:8080/"
    },
    "id": "689849cf",
    "outputId": "d4003211-3c62-4a87-c455-11824b949591"
   },
   "outputs": [
    {
     "data": {
      "text/plain": [
       "Index(['BeneID', 'ClaimID', 'ClaimStartDt', 'ClaimEndDt', 'Provider',\n",
       "       'InscClaimAmtReimbursed', 'AttendingPhysician', 'OperatingPhysician',\n",
       "       'OtherPhysician', 'AdmissionDt', 'ClmAdmitDiagnosisCode',\n",
       "       'DeductibleAmtPaid', 'DischargeDt', 'DiagnosisGroupCode',\n",
       "       'ClmDiagnosisCode_1', 'ClmDiagnosisCode_2', 'ClmDiagnosisCode_3',\n",
       "       'ClmDiagnosisCode_4', 'ClmDiagnosisCode_5', 'ClmDiagnosisCode_6',\n",
       "       'ClmDiagnosisCode_7', 'ClmDiagnosisCode_8', 'ClmDiagnosisCode_9',\n",
       "       'ClmDiagnosisCode_10', 'ClmProcedureCode_1', 'ClmProcedureCode_2',\n",
       "       'ClmProcedureCode_3', 'ClmProcedureCode_4', 'ClmProcedureCode_5',\n",
       "       'ClmProcedureCode_6', 'days_admitted', 'Claim_duration',\n",
       "       'Extra_days_claimed', 'was_admitted', 'DOB', 'DOD', 'Gender', 'Race',\n",
       "       'RenalDiseaseIndicator', 'State', 'County', 'NoOfMonths_PartACov',\n",
       "       'NoOfMonths_PartBCov', 'ChronicCond_Alzheimer',\n",
       "       'ChronicCond_Heartfailure', 'ChronicCond_KidneyDisease',\n",
       "       'ChronicCond_Cancer', 'ChronicCond_ObstrPulmonary',\n",
       "       'ChronicCond_Depression', 'ChronicCond_Diabetes',\n",
       "       'ChronicCond_IschemicHeart', 'ChronicCond_Osteoporasis',\n",
       "       'ChronicCond_rheumatoidarthritis', 'ChronicCond_stroke',\n",
       "       'IPAnnualReimbursementAmt', 'IPAnnualDeductibleAmt',\n",
       "       'OPAnnualReimbursementAmt', 'OPAnnualDeductibleAmt', 'Patient_Age',\n",
       "       'is_dead', 'Patient_Risk_Score', 'PotentialFraud',\n",
       "       'Total_ip_op_AnnualReimbursementAmt', 'Total_ip_op_AnnualDeductibleAmt',\n",
       "       'Total_physicans_attended', 'Total_ClmDiagnosisCode'],\n",
       "      dtype='object')"
      ]
     },
     "execution_count": 62,
     "metadata": {},
     "output_type": "execute_result"
    }
   ],
   "source": [
    "final_merged_data.columns"
   ]
  },
  {
   "cell_type": "markdown",
   "id": "6f6cf986",
   "metadata": {
    "id": "6f6cf986"
   },
   "source": [
    "### getting count of different claim procedure code"
   ]
  },
  {
   "cell_type": "code",
   "execution_count": 63,
   "id": "5e1fd28f",
   "metadata": {
    "id": "5e1fd28f"
   },
   "outputs": [],
   "source": [
    "filter_cols=['ClmProcedureCode_1', 'ClmProcedureCode_2',\n",
    "       'ClmProcedureCode_3', 'ClmProcedureCode_4', 'ClmProcedureCode_5',\n",
    "       'ClmProcedureCode_6']\n",
    "df=final_merged_data[filter_cols]\n",
    "col=np.where(df==0,0,1)\n",
    "sum_total_features=np.sum(col,axis=1) # adding all columns.\n",
    "final_merged_data['Total_ClmProcedureCode']=sum_total_features # stroing in new column"
   ]
  },
  {
   "cell_type": "markdown",
   "id": "c68db4c5",
   "metadata": {},
   "source": [
    "## Label Encoding"
   ]
  },
  {
   "cell_type": "code",
   "execution_count": 71,
   "id": "8b727dea",
   "metadata": {},
   "outputs": [],
   "source": [
    "## Label Encoding"
   ]
  },
  {
   "cell_type": "code",
   "execution_count": 72,
   "id": "abaa8279",
   "metadata": {
    "colab": {
     "base_uri": "https://localhost:8080/"
    },
    "id": "abaa8279",
    "outputId": "c9fed67a-e290-49e8-914f-c2bee0f851d6"
   },
   "outputs": [
    {
     "data": {
      "text/plain": [
       "array([1, 0])"
      ]
     },
     "execution_count": 72,
     "metadata": {},
     "output_type": "execute_result"
    }
   ],
   "source": [
    "le = preprocessing.LabelEncoder()\n",
    "final_merged_data['PotentialFraud'] = le.fit_transform(final_merged_data['PotentialFraud'])\n",
    "final_merged_data.PotentialFraud.unique()"
   ]
  },
  {
   "cell_type": "code",
   "execution_count": 73,
   "id": "52ae9a54",
   "metadata": {
    "id": "52ae9a54"
   },
   "outputs": [],
   "source": [
    "remove_columns=['DOB', 'DOD','AdmissionDt', 'DischargeDt','ClaimStartDt', 'ClaimEndDt','ClmDiagnosisCode_1', 'ClmDiagnosisCode_2', 'ClmDiagnosisCode_3', 'ClmDiagnosisCode_4',,'BeneID', 'ClaimID'\n",
    "                'ClmDiagnosisCode_5', 'ClmDiagnosisCode_6', 'ClmDiagnosisCode_7', 'ClmDiagnosisCode_8',\n",
    "                'ClmDiagnosisCode_9', 'ClmDiagnosisCode_10', 'ClmProcedureCode_1', 'ClmProcedureCode_2', \n",
    "                'ClmProcedureCode_3', 'ClmProcedureCode_4', 'ClmProcedureCode_5', 'ClmProcedureCode_6']"
   ]
  },
  {
   "cell_type": "code",
   "execution_count": 74,
   "id": "bd67d5c5",
   "metadata": {
    "id": "bd67d5c5"
   },
   "outputs": [],
   "source": [
    "final_merged_data=final_merged_data.drop(columns=remove_columns, axis=1)"
   ]
  },
  {
   "cell_type": "code",
   "execution_count": 75,
   "id": "dbee0656",
   "metadata": {
    "colab": {
     "base_uri": "https://localhost:8080/"
    },
    "id": "dbee0656",
    "outputId": "b61c137a-7778-4907-980c-5fbf9f4ae3b3"
   },
   "outputs": [
    {
     "name": "stdout",
     "output_type": "stream",
     "text": [
      "<class 'pandas.core.frame.DataFrame'>\n",
      "Int64Index: 558211 entries, 0 to 558210\n",
      "Data columns (total 43 columns):\n",
      " #   Column                              Non-Null Count   Dtype  \n",
      "---  ------                              --------------   -----  \n",
      " 0   Provider                            558211 non-null  object \n",
      " 1   InscClaimAmtReimbursed              558211 non-null  int64  \n",
      " 2   AttendingPhysician                  558211 non-null  object \n",
      " 3   OperatingPhysician                  558211 non-null  object \n",
      " 4   OtherPhysician                      558211 non-null  object \n",
      " 5   ClmAdmitDiagnosisCode               558211 non-null  object \n",
      " 6   DeductibleAmtPaid                   558211 non-null  float64\n",
      " 7   DiagnosisGroupCode                  558211 non-null  object \n",
      " 8   days_admitted                       558211 non-null  float64\n",
      " 9   Claim_duration                      558211 non-null  float64\n",
      " 10  Extra_days_claimed                  558211 non-null  float64\n",
      " 11  was_admitted                        558211 non-null  int64  \n",
      " 12  Gender                              558211 non-null  int64  \n",
      " 13  Race                                558211 non-null  int64  \n",
      " 14  RenalDiseaseIndicator               558211 non-null  int64  \n",
      " 15  State                               558211 non-null  int64  \n",
      " 16  County                              558211 non-null  int64  \n",
      " 17  NoOfMonths_PartACov                 558211 non-null  int64  \n",
      " 18  NoOfMonths_PartBCov                 558211 non-null  int64  \n",
      " 19  ChronicCond_Alzheimer               558211 non-null  int64  \n",
      " 20  ChronicCond_Heartfailure            558211 non-null  int64  \n",
      " 21  ChronicCond_KidneyDisease           558211 non-null  int64  \n",
      " 22  ChronicCond_Cancer                  558211 non-null  int64  \n",
      " 23  ChronicCond_ObstrPulmonary          558211 non-null  int64  \n",
      " 24  ChronicCond_Depression              558211 non-null  int64  \n",
      " 25  ChronicCond_Diabetes                558211 non-null  int64  \n",
      " 26  ChronicCond_IschemicHeart           558211 non-null  int64  \n",
      " 27  ChronicCond_Osteoporasis            558211 non-null  int64  \n",
      " 28  ChronicCond_rheumatoidarthritis     558211 non-null  int64  \n",
      " 29  ChronicCond_stroke                  558211 non-null  int64  \n",
      " 30  IPAnnualReimbursementAmt            558211 non-null  int64  \n",
      " 31  IPAnnualDeductibleAmt               558211 non-null  int64  \n",
      " 32  OPAnnualReimbursementAmt            558211 non-null  int64  \n",
      " 33  OPAnnualDeductibleAmt               558211 non-null  int64  \n",
      " 34  Patient_Age                         558211 non-null  float64\n",
      " 35  is_dead                             558211 non-null  int64  \n",
      " 36  Patient_Risk_Score                  558211 non-null  int64  \n",
      " 37  PotentialFraud                      558211 non-null  int32  \n",
      " 38  Total_ip_op_AnnualReimbursementAmt  558211 non-null  int64  \n",
      " 39  Total_ip_op_AnnualDeductibleAmt     558211 non-null  int64  \n",
      " 40  Total_physicans_attended            558211 non-null  int32  \n",
      " 41  Total_ClmDiagnosisCode              558211 non-null  int32  \n",
      " 42  Total_ClmProcedureCode              558211 non-null  int32  \n",
      "dtypes: float64(5), int32(4), int64(28), object(6)\n",
      "memory usage: 178.9+ MB\n"
     ]
    }
   ],
   "source": [
    "final_merged_data.info()"
   ]
  },
  {
   "cell_type": "code",
   "execution_count": 76,
   "id": "802f1281",
   "metadata": {
    "id": "802f1281"
   },
   "outputs": [],
   "source": [
    "final_merged_data.Gender=final_merged_data.Gender.astype('category')\n",
    "final_merged_data.Race=final_merged_data.Race.astype('category')\n",
    "final_merged_data.State=final_merged_data.State.astype('category')\n",
    "final_merged_data.County=final_merged_data.County.astype('category')\n",
    "final_merged_data.NoOfMonths_PartACov =final_merged_data.NoOfMonths_PartACov .astype('category')\n",
    "final_merged_data.NoOfMonths_PartBCov =final_merged_data.NoOfMonths_PartBCov .astype('category')\n",
    "final_merged_data.ClmAdmitDiagnosisCode=final_merged_data.ClmAdmitDiagnosisCode.astype('str')\n",
    "final_merged_data.DiagnosisGroupCode=final_merged_data.DiagnosisGroupCode.astype('str')\n",
    "final_merged_data.AttendingPhysician=final_merged_data.AttendingPhysician.astype('str')\n",
    "final_merged_data.OperatingPhysician=final_merged_data.OperatingPhysician.astype('str')\n",
    "final_merged_data.OtherPhysician=final_merged_data.OtherPhysician.astype('str')"
   ]
  },
  {
   "cell_type": "code",
   "execution_count": 77,
   "id": "eWyYCOWwuJ3R",
   "metadata": {
    "id": "eWyYCOWwuJ3R"
   },
   "outputs": [],
   "source": [
    "final_merged_data.to_csv('final_merged_data.csv',index=False)"
   ]
  },
  {
   "cell_type": "code",
   "execution_count": 78,
   "id": "T4KURp9uvMBO",
   "metadata": {
    "colab": {
     "base_uri": "https://localhost:8080/"
    },
    "id": "T4KURp9uvMBO",
    "outputId": "02305537-6135-4a69-99d3-4aeac1c4ba4b"
   },
   "outputs": [
    {
     "data": {
      "text/plain": [
       "(558211, 43)"
      ]
     },
     "execution_count": 78,
     "metadata": {},
     "output_type": "execute_result"
    }
   ],
   "source": [
    "final_merged_data.shape"
   ]
  }
 ],
 "metadata": {
  "colab": {
   "name": "lubna_good_work_part1_finaldataset.ipynb",
   "provenance": []
  },
  "kernelspec": {
   "display_name": "Python 3 (ipykernel)",
   "language": "python",
   "name": "python3"
  },
  "language_info": {
   "codemirror_mode": {
    "name": "ipython",
    "version": 3
   },
   "file_extension": ".py",
   "mimetype": "text/x-python",
   "name": "python",
   "nbconvert_exporter": "python",
   "pygments_lexer": "ipython3",
   "version": "3.9.12"
  }
 },
 "nbformat": 4,
 "nbformat_minor": 5
}
